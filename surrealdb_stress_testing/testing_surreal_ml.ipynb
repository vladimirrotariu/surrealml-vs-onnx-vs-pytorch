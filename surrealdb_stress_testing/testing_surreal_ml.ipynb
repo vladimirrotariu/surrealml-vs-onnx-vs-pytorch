{
 "cells": [
  {
   "cell_type": "markdown",
   "metadata": {},
   "source": [
    "# Benchmarking SurrealDB's feature of executing a model internally"
   ]
  },
  {
   "cell_type": "markdown",
   "metadata": {},
   "source": [
    "## Table of contents"
   ]
  },
  {
   "cell_type": "markdown",
   "metadata": {},
   "source": [
    "1. [General dependencies and helpers](#general-dependencies-and-helpers)"
   ]
  },
  {
   "cell_type": "markdown",
   "metadata": {},
   "source": [
    "## General dependencies and helpers"
   ]
  },
  {
   "cell_type": "code",
   "execution_count": 8,
   "metadata": {},
   "outputs": [
    {
     "name": "stdout",
     "output_type": "stream",
     "text": [
      "Collecting surrealml[sklearn,torch]\n",
      "  Cloning https://github.com/surrealdb/surrealml to /tmp/pip-install-l977ll04/surrealml_69023d38e19e4912b684c3057019787b\n",
      "  Running command git clone --filter=blob:none --quiet https://github.com/surrealdb/surrealml /tmp/pip-install-l977ll04/surrealml_69023d38e19e4912b684c3057019787b\n",
      "  Resolved https://github.com/surrealdb/surrealml to commit 9e0b5f6c8c6a0729646104a31721748a1be5b641\n",
      "  Installing build dependencies ... \u001b[?25ldone\n",
      "\u001b[?25h  Getting requirements to build wheel ... \u001b[?25ldone\n",
      "\u001b[?25h  Preparing metadata (pyproject.toml) ... \u001b[?25ldone\n",
      "\u001b[?25hRequirement already satisfied: scikit-learn==1.4.0 in /home/vld28/Desktop/dev/article/aiml/.venv/lib/python3.10/site-packages (from surrealml[sklearn,torch]) (1.4.0)\n",
      "Requirement already satisfied: skl2onnx==1.16.0 in /home/vld28/Desktop/dev/article/aiml/.venv/lib/python3.10/site-packages (from surrealml[sklearn,torch]) (1.16.0)\n",
      "Requirement already satisfied: torch==2.1.2 in /home/vld28/Desktop/dev/article/aiml/.venv/lib/python3.10/site-packages (from surrealml[sklearn,torch]) (2.1.2)\n",
      "Requirement already satisfied: scipy>=1.6.0 in /home/vld28/Desktop/dev/article/aiml/.venv/lib/python3.10/site-packages (from scikit-learn==1.4.0->surrealml[sklearn,torch]) (1.13.0)\n",
      "Requirement already satisfied: threadpoolctl>=2.0.0 in /home/vld28/Desktop/dev/article/aiml/.venv/lib/python3.10/site-packages (from scikit-learn==1.4.0->surrealml[sklearn,torch]) (3.5.0)\n",
      "Requirement already satisfied: joblib>=1.2.0 in /home/vld28/Desktop/dev/article/aiml/.venv/lib/python3.10/site-packages (from scikit-learn==1.4.0->surrealml[sklearn,torch]) (1.4.2)\n",
      "Requirement already satisfied: numpy<2.0,>=1.19.5 in /home/vld28/Desktop/dev/article/aiml/.venv/lib/python3.10/site-packages (from scikit-learn==1.4.0->surrealml[sklearn,torch]) (1.26.4)\n",
      "Requirement already satisfied: onnxconverter-common>=1.7.0 in /home/vld28/Desktop/dev/article/aiml/.venv/lib/python3.10/site-packages (from skl2onnx==1.16.0->surrealml[sklearn,torch]) (1.14.0)\n",
      "Requirement already satisfied: onnx>=1.2.1 in /home/vld28/Desktop/dev/article/aiml/.venv/lib/python3.10/site-packages (from skl2onnx==1.16.0->surrealml[sklearn,torch]) (1.16.0)\n",
      "Requirement already satisfied: typing-extensions in /home/vld28/Desktop/dev/article/aiml/.venv/lib/python3.10/site-packages (from torch==2.1.2->surrealml[sklearn,torch]) (4.11.0)\n",
      "Requirement already satisfied: nvidia-nccl-cu12==2.18.1 in /home/vld28/Desktop/dev/article/aiml/.venv/lib/python3.10/site-packages (from torch==2.1.2->surrealml[sklearn,torch]) (2.18.1)\n",
      "Requirement already satisfied: fsspec in /home/vld28/Desktop/dev/article/aiml/.venv/lib/python3.10/site-packages (from torch==2.1.2->surrealml[sklearn,torch]) (2024.3.1)\n",
      "Requirement already satisfied: nvidia-cublas-cu12==12.1.3.1 in /home/vld28/Desktop/dev/article/aiml/.venv/lib/python3.10/site-packages (from torch==2.1.2->surrealml[sklearn,torch]) (12.1.3.1)\n",
      "Requirement already satisfied: jinja2 in /home/vld28/Desktop/dev/article/aiml/.venv/lib/python3.10/site-packages (from torch==2.1.2->surrealml[sklearn,torch]) (3.1.4)\n",
      "Requirement already satisfied: nvidia-nvtx-cu12==12.1.105 in /home/vld28/Desktop/dev/article/aiml/.venv/lib/python3.10/site-packages (from torch==2.1.2->surrealml[sklearn,torch]) (12.1.105)\n",
      "Requirement already satisfied: sympy in /home/vld28/Desktop/dev/article/aiml/.venv/lib/python3.10/site-packages (from torch==2.1.2->surrealml[sklearn,torch]) (1.12)\n",
      "Requirement already satisfied: nvidia-cufft-cu12==11.0.2.54 in /home/vld28/Desktop/dev/article/aiml/.venv/lib/python3.10/site-packages (from torch==2.1.2->surrealml[sklearn,torch]) (11.0.2.54)\n",
      "Requirement already satisfied: nvidia-cuda-cupti-cu12==12.1.105 in /home/vld28/Desktop/dev/article/aiml/.venv/lib/python3.10/site-packages (from torch==2.1.2->surrealml[sklearn,torch]) (12.1.105)\n",
      "Requirement already satisfied: filelock in /home/vld28/Desktop/dev/article/aiml/.venv/lib/python3.10/site-packages (from torch==2.1.2->surrealml[sklearn,torch]) (3.14.0)\n",
      "Requirement already satisfied: nvidia-cuda-runtime-cu12==12.1.105 in /home/vld28/Desktop/dev/article/aiml/.venv/lib/python3.10/site-packages (from torch==2.1.2->surrealml[sklearn,torch]) (12.1.105)\n",
      "Requirement already satisfied: nvidia-cuda-nvrtc-cu12==12.1.105 in /home/vld28/Desktop/dev/article/aiml/.venv/lib/python3.10/site-packages (from torch==2.1.2->surrealml[sklearn,torch]) (12.1.105)\n",
      "Requirement already satisfied: nvidia-cudnn-cu12==8.9.2.26 in /home/vld28/Desktop/dev/article/aiml/.venv/lib/python3.10/site-packages (from torch==2.1.2->surrealml[sklearn,torch]) (8.9.2.26)\n",
      "Requirement already satisfied: nvidia-cusolver-cu12==11.4.5.107 in /home/vld28/Desktop/dev/article/aiml/.venv/lib/python3.10/site-packages (from torch==2.1.2->surrealml[sklearn,torch]) (11.4.5.107)\n",
      "Requirement already satisfied: nvidia-cusparse-cu12==12.1.0.106 in /home/vld28/Desktop/dev/article/aiml/.venv/lib/python3.10/site-packages (from torch==2.1.2->surrealml[sklearn,torch]) (12.1.0.106)\n",
      "Requirement already satisfied: nvidia-curand-cu12==10.3.2.106 in /home/vld28/Desktop/dev/article/aiml/.venv/lib/python3.10/site-packages (from torch==2.1.2->surrealml[sklearn,torch]) (10.3.2.106)\n",
      "Requirement already satisfied: networkx in /home/vld28/Desktop/dev/article/aiml/.venv/lib/python3.10/site-packages (from torch==2.1.2->surrealml[sklearn,torch]) (3.3)\n",
      "Requirement already satisfied: triton==2.1.0 in /home/vld28/Desktop/dev/article/aiml/.venv/lib/python3.10/site-packages (from torch==2.1.2->surrealml[sklearn,torch]) (2.1.0)\n",
      "Requirement already satisfied: nvidia-nvjitlink-cu12 in /home/vld28/Desktop/dev/article/aiml/.venv/lib/python3.10/site-packages (from nvidia-cusolver-cu12==11.4.5.107->torch==2.1.2->surrealml[sklearn,torch]) (12.4.127)\n",
      "Requirement already satisfied: protobuf>=3.20.2 in /home/vld28/Desktop/dev/article/aiml/.venv/lib/python3.10/site-packages (from onnx>=1.2.1->skl2onnx==1.16.0->surrealml[sklearn,torch]) (3.20.2)\n",
      "Requirement already satisfied: packaging in /home/vld28/Desktop/dev/article/aiml/.venv/lib/python3.10/site-packages (from onnxconverter-common>=1.7.0->skl2onnx==1.16.0->surrealml[sklearn,torch]) (24.0)\n",
      "Requirement already satisfied: MarkupSafe>=2.0 in /home/vld28/Desktop/dev/article/aiml/.venv/lib/python3.10/site-packages (from jinja2->torch==2.1.2->surrealml[sklearn,torch]) (2.1.5)\n",
      "Requirement already satisfied: mpmath>=0.19 in /home/vld28/Desktop/dev/article/aiml/.venv/lib/python3.10/site-packages (from sympy->torch==2.1.2->surrealml[sklearn,torch]) (1.3.0)\n",
      "Note: you may need to restart the kernel to use updated packages.\n",
      "Note: you may need to restart the kernel to use updated packages.\n"
     ]
    }
   ],
   "source": [
    "%pip install \"git+https://github.com/surrealdb/surrealml#egg=surrealml[sklearn,torch]\"\n",
    "%pip install -q onnx onnxscript\n",
    "\n",
    "import subprocess"
   ]
  },
  {
   "cell_type": "markdown",
   "metadata": {},
   "source": [
    "We aim to time the two cases:\n",
    "1. **surreal**, i.e. predicting with the model in ONNX format _inside_ the SurrealDB, and then fetching the prediction from SurrealDB.\n",
    "2. **pytorch**, i.e. fetching the data from SurrealDB and _externally_ predicting with the PyTorch model."
   ]
  },
  {
   "cell_type": "markdown",
   "metadata": {},
   "source": [
    "To handle timing in a consistent way, we define the decorator `chronometer`."
   ]
  },
  {
   "cell_type": "code",
   "execution_count": 2,
   "metadata": {},
   "outputs": [],
   "source": [
    "import time\n",
    "from functools import wraps\n",
    "\n",
    "\n",
    "def chronometer(foo):\n",
    "    @wraps(foo)\n",
    "    def wrapper(*args, **kwargs):\n",
    "        start = time.time()\n",
    "        _ = foo(*args, *kwargs)\n",
    "        end = time.time()\n",
    "        return end - start\n",
    "\n",
    "    return wrapper"
   ]
  },
  {
   "cell_type": "code",
   "execution_count": 3,
   "metadata": {},
   "outputs": [
    {
     "ename": "ModuleNotFoundError",
     "evalue": "No module named 'torch'",
     "output_type": "error",
     "traceback": [
      "\u001b[0;31m---------------------------------------------------------------------------\u001b[0m",
      "\u001b[0;31mModuleNotFoundError\u001b[0m                       Traceback (most recent call last)",
      "Cell \u001b[0;32mIn[3], line 1\u001b[0m\n\u001b[0;32m----> 1\u001b[0m \u001b[38;5;28;01mimport\u001b[39;00m \u001b[38;5;21;01mtorch\u001b[39;00m\n\u001b[1;32m      2\u001b[0m \u001b[38;5;28;01mimport\u001b[39;00m \u001b[38;5;21;01mtorch\u001b[39;00m\u001b[38;5;21;01m.\u001b[39;00m\u001b[38;5;21;01mnn\u001b[39;00m \u001b[38;5;28;01mas\u001b[39;00m \u001b[38;5;21;01mnn\u001b[39;00m\n\u001b[1;32m      5\u001b[0m \u001b[38;5;28;01mclass\u001b[39;00m \u001b[38;5;21;01mFnn\u001b[39;00m(nn\u001b[38;5;241m.\u001b[39mModule):\n",
      "\u001b[0;31mModuleNotFoundError\u001b[0m: No module named 'torch'"
     ]
    }
   ],
   "source": [
    "import torch\n",
    "import torch.nn as nn\n",
    "\n",
    "\n",
    "class Fnn(nn.Module):\n",
    "    def __init__(self):\n",
    "        super().__init__()\n",
    "        self.fc1 = nn.Linear(10, 5)\n",
    "        self.fc2 = nn.Linear(5, 1)\n",
    "\n",
    "    def forward(self, x: torch.Tensor) -> torch.Tensor:\n",
    "        x = torch.relu(self.fc1(x))\n",
    "        x = self.fc2(x)\n",
    "        return x\n",
    "\n",
    "    def __str__(self) -> str:\n",
    "        return self.__class__.__name__"
   ]
  },
  {
   "cell_type": "code",
   "execution_count": null,
   "metadata": {},
   "outputs": [],
   "source": [
    "model = Fnn()\n",
    "model.load_state_dict(torch.load(\"parameters.pth\")[\"model_state_dict\"])\n",
    "model.eval()"
   ]
  },
  {
   "cell_type": "code",
   "execution_count": null,
   "metadata": {},
   "outputs": [],
   "source": [
    "from surrealml import SurMlFile, Engine\n",
    "\n",
    "example_input = torch.rand(1, 10)\n",
    "surml_file = SurMlFile(\n",
    "    model=model, name=str(model), inputs=example_input, engine=Engine.PYTORCH\n",
    ")\n",
    "\n",
    "path_surml = \"./model.surml\"\n",
    "surml_file.add_version(\"0.0.1\")\n",
    "surml_file.save(path_surml)"
   ]
  },
  {
   "cell_type": "code",
   "execution_count": null,
   "metadata": {},
   "outputs": [],
   "source": [
    "\"\"\"\n",
    "The URL of the SurrealDB instance, and the authentication details, as well as the namespace and database in scope\n",
    "\"\"\"\n",
    "\n",
    "URL = \"http://localhost:8000\"\n",
    "NS = \"latency_test\"\n",
    "DB = \"surreal_ml_vs_pytorch\"\n",
    "USR = \"user\"\n",
    "PASS = \"user\"\n",
    "CRD = (USR, PASS)\n",
    "PATH = \"file://surreal\""
   ]
  },
  {
   "cell_type": "code",
   "execution_count": null,
   "metadata": {
    "scrolled": true
   },
   "outputs": [],
   "source": [
    "\"\"\"\n",
    "The CLI command to import the model in the SurrealDB database of choice, this time we use it programmatically\n",
    "\"\"\"\n",
    "\n",
    "command = [\n",
    "    \"surreal\",\n",
    "    \"ml\",\n",
    "    \"import\",\n",
    "    \"--endpoint\",\n",
    "    URL,\n",
    "    \"--user\",\n",
    "    USR,\n",
    "    \"--pass\",\n",
    "    PASS,\n",
    "    \"--ns\",\n",
    "    NS,\n",
    "    \"--db\",\n",
    "    DB,\n",
    "    path_surml,\n",
    "]\n",
    "\n",
    "\n",
    "subprocess.Popen(\n",
    "    command,\n",
    "    stdin=subprocess.PIPE,\n",
    "    stdout=subprocess.PIPE,\n",
    "    stderr=subprocess.PIPE,\n",
    ")\n",
    "output = subprocess.check_output(command, stderr=subprocess.STDOUT)\n",
    "output_str = output.decode(\"utf-8\")\n",
    "print(output_str)"
   ]
  },
  {
   "cell_type": "code",
   "execution_count": null,
   "metadata": {},
   "outputs": [],
   "source": [
    "%%capture\n",
    "\"\"\"\n",
    "###################################################################################################\n",
    "--> The other way to upload a model to SurrealDB. Could not make it work by the time of writing :( \n",
    "###################################################################################################\n",
    "\n",
    "surml_file.upload(\n",
    "    path=\"./model.surml\",\n",
    "    url=URL,\n",
    "    chunk_size=36864,\n",
    "    namespace=NS,\n",
    "    database=DB,\n",
    "    username=USR,\n",
    "    password=PASS)\n",
    "\"\"\""
   ]
  },
  {
   "cell_type": "code",
   "execution_count": null,
   "metadata": {
    "scrolled": true
   },
   "outputs": [],
   "source": [
    "\"\"\"\n",
    "The code that was used to generate the test data, and load it in SurrealDB\n",
    "\"\"\"\n",
    "\n",
    "from surrealist import Surreal\n",
    "\n",
    "surreal = Surreal(\n",
    "    url=URL,\n",
    "    namespace=NS,\n",
    "    database=DB,\n",
    "    credentials=CRD,\n",
    "    log_level=\"ERROR\",\n",
    "    timeout=10**4,\n",
    ")\n",
    "\n",
    "max_test_size = 10**4\n",
    "# chunk_size should divide max_test_size, we do it as we create the test inputs in memory, and thus we should avoid a memory crash.\n",
    "chunk_size = 10**2\n",
    "number_chunks = int(max_test_size / chunk_size)\n",
    "\n",
    "# likewise, test_step should divide max_test_size\n",
    "test_step = 10**3\n",
    "number_steps = int(max_test_size / test_step)\n",
    "\n",
    "with surreal.connect() as connect:\n",
    "    for _ in range(number_chunks):\n",
    "        test_inputs = torch.rand(chunk_size, 10).tolist()\n",
    "        [\n",
    "            connect.query(f\"CREATE inputs:ulid() SET value = {input};\")\n",
    "            for input in test_inputs\n",
    "        ]"
   ]
  },
  {
   "cell_type": "code",
   "execution_count": null,
   "metadata": {},
   "outputs": [],
   "source": [
    "surreal_times = []\n",
    "try:\n",
    "    with surreal.connect() as connect:\n",
    "        for increment in range(number_steps):\n",
    "            test_size = (increment + 1) * test_step\n",
    "\n",
    "            # in a prior run, the query result was tested with assert query_result[\"status\"] == \"OK\"\n",
    "            # also do print(query_result) to check further\n",
    "            @chronometer\n",
    "            def evaluate_with_surrealdb():\n",
    "                _ = connect.query(\n",
    "                    f\"SELECT VALUE ml::Fnn<0.0.1>(value) FROM inputs LIMIT {test_size};\"\n",
    "                ).to_dict()[\"result\"]\n",
    "\n",
    "            elapsed_time = evaluate_with_surrealdb()\n",
    "            print(f\"For {test_size} datapoints, it took {elapsed_time} seconds\")\n",
    "            surreal_times.append(elapsed_time)\n",
    "except Exception as e:\n",
    "    print(e)"
   ]
  },
  {
   "cell_type": "code",
   "execution_count": null,
   "metadata": {},
   "outputs": [],
   "source": [
    "pytorch_times = []\n",
    "try:\n",
    "    with surreal.connect() as connect:\n",
    "        for increment in range(1, 11):\n",
    "            test_size = increment * test_step\n",
    "\n",
    "            @chronometer\n",
    "            def evaluate_pytorch():\n",
    "                inputs = connect.query(\n",
    "                    f\"SELECT VALUE value FROM inputs LIMIT {test_size}\"\n",
    "                ).to_dict()[\"result\"]\n",
    "\n",
    "                with torch.no_grad():\n",
    "                    _ = model.forward(torch.tensor(inputs))\n",
    "\n",
    "            elapsed_time = evaluate_pytorch()\n",
    "            print(f\"For {test_size} datapoints, it took {elapsed_time} seconds\")\n",
    "            pytorch_times.append(elapsed_time)\n",
    "except Exception as e:\n",
    "    print(e)"
   ]
  }
 ],
 "metadata": {
  "kernelspec": {
   "display_name": "Python 3 (ipykernel)",
   "language": "python",
   "name": "python3"
  },
  "language_info": {
   "codemirror_mode": {
    "name": "ipython",
    "version": 3
   },
   "file_extension": ".py",
   "mimetype": "text/x-python",
   "name": "python",
   "nbconvert_exporter": "python",
   "pygments_lexer": "ipython3",
   "version": "3.10.12"
  }
 },
 "nbformat": 4,
 "nbformat_minor": 4
}

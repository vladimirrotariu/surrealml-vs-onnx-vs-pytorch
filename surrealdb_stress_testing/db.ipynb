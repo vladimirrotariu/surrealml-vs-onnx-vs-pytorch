{
 "cells": [
  {
   "cell_type": "code",
   "execution_count": null,
   "id": "e71cbc91-e6eb-4d15-adac-986b86260765",
   "metadata": {},
   "outputs": [
    {
     "name": "stdout",
     "output_type": "stream",
     "text": [
      "env: RUST_BACKTRACE=full\n",
      "[sudo] password for vld28: \n",
      " .d8888b.                                             888 8888888b.  888888b.\n",
      "d88P  Y88b                                            888 888  'Y88b 888  '88b\n",
      "Y88b.                                                 888 888    888 888  .88P\n",
      " 'Y888b.   888  888 888d888 888d888  .d88b.   8888b.  888 888    888 8888888K.\n",
      "    'Y88b. 888  888 888P'   888P'   d8P  Y8b     '88b 888 888    888 888  'Y88b\n",
      "      '888 888  888 888     888     88888888 .d888888 888 888    888 888    888\n",
      "Y88b  d88P Y88b 888 888     888     Y8b.     888  888 888 888  .d88P 888   d88P\n",
      " 'Y8888P'   'Y88888 888     888      'Y8888  'Y888888 888 8888888P'  8888888P'\n",
      "\n",
      "Fetching the latest database version...\n",
      "Fetching the host system architecture...\n",
      "Installing surreal-v1.4.2 for linux-amd64...\n",
      "\n",
      "SurrealDB successfully installed in:\n",
      "  /usr/local/bin/surreal\n",
      "\n",
      "To see the command-line options run:\n",
      "  surreal help\n",
      "To start an in-memory database server run:\n",
      "  surreal start --log debug --user root --pass root memory\n",
      "For help with getting started visit:\n",
      "  https://surrealdb.com/docs\n",
      "\n",
      "\u001b[1minfo:\u001b[0m downloading installer\n",
      "\u001b[0m\u001b[33m\u001b[0m\u001b[1m\u001b[33mwarning: \u001b[0mtool `rust-analyzer` is already installed, remove it from `/root/.cargo/bin`, then run `rustup update` to have rustup manage this tool.\n",
      "\u001b[0m\u001b[33m\u001b[0m\u001b[1m\u001b[33mwarning: \u001b[0mtool `rustfmt` is already installed, remove it from `/root/.cargo/bin`, then run `rustup update` to have rustup manage this tool.\n",
      "\u001b[0m\u001b[33m\u001b[0m\u001b[1m\u001b[33mwarning: \u001b[0mtool `cargo-fmt` is already installed, remove it from `/root/.cargo/bin`, then run `rustup update` to have rustup manage this tool.\n",
      "\u001b[0m\u001b[1minfo: \u001b[0mprofile set to 'default'\n",
      "\u001b[0m\u001b[1minfo: \u001b[0mdefault host triple is x86_64-unknown-linux-gnu\n",
      "\u001b[0m\u001b[33m\u001b[0m\u001b[1m\u001b[33mwarning: \u001b[0mUpdating existing toolchain, profile choice will be ignored\n",
      "\u001b[0m\u001b[1minfo: \u001b[0msyncing channel updates for 'stable-x86_64-unknown-linux-gnu'\n",
      "\u001b[0m\u001b[1minfo: \u001b[0mdefault toolchain set to 'stable-x86_64-unknown-linux-gnu'\n",
      "\n",
      "  \u001b[0m\u001b[1mstable-x86_64-unknown-linux-gnu unchanged\u001b[0m - rustc 1.78.0 (9b00956e5 2024-04-29)\n",
      "\n",
      "\u001b[0m\u001b[1m\n",
      "Rust is installed now. Great!\n",
      "\u001b[0m\n",
      "To get started you may need to restart your current shell.\n",
      "This would reload your \u001b[0m\u001b[1mPATH\u001b[0m environment variable to include\n",
      "Cargo's bin directory ($HOME/.cargo/bin).\n",
      "\n",
      "To configure your current shell, you need to source\n",
      "the corresponding \u001b[0m\u001b[1menv\u001b[0m file under $HOME/.cargo.\n",
      "\n",
      "This is usually done by running one of the following (note the leading DOT):\n",
      ". \"$HOME/.cargo/env\"            # For sh/bash/zsh/ash/dash/pdksh\n",
      "source \"$HOME/.cargo/env.fish\"  # For fish\n",
      "\n",
      " .d8888b.                                             888 8888888b.  888888b.\n",
      "d88P  Y88b                                            888 888  'Y88b 888  '88b\n",
      "Y88b.                                                 888 888    888 888  .88P\n",
      " 'Y888b.   888  888 888d888 888d888  .d88b.   8888b.  888 888    888 8888888K.\n",
      "    'Y88b. 888  888 888P'   888P'   d8P  Y8b     '88b 888 888    888 888  'Y88b\n",
      "      '888 888  888 888     888     88888888 .d888888 888 888    888 888    888\n",
      "Y88b  d88P Y88b 888 888     888     Y8b.     888  888 888 888  .d88P 888   d88P\n",
      " 'Y8888P'   'Y88888 888     888      'Y8888  'Y888888 888 8888888P'  8888888P'\n",
      "\n",
      "\n",
      "\u001b[2m2024-05-10T22:12:42.465506Z\u001b[0m \u001b[32m INFO\u001b[0m \u001b[2msurreal::env\u001b[0m\u001b[2m:\u001b[0m Running 1.4.2 for linux on x86_64\n",
      "\u001b[2m2024-05-10T22:12:42.465530Z\u001b[0m \u001b[32m INFO\u001b[0m \u001b[2msurreal::dbs\u001b[0m\u001b[2m:\u001b[0m ✅🔒 Authentication is enabled 🔒✅\n",
      "\u001b[2m2024-05-10T22:12:42.465537Z\u001b[0m \u001b[32m INFO\u001b[0m \u001b[2msurrealdb_core::kvs::ds\u001b[0m\u001b[2m:\u001b[0m Starting kvs store at file://surreal\n",
      "\u001b[2m2024-05-10T22:12:42.566143Z\u001b[0m \u001b[32m INFO\u001b[0m \u001b[2msurrealdb_core::kvs::ds\u001b[0m\u001b[2m:\u001b[0m Started kvs store at file://surreal\n",
      "\u001b[2m2024-05-10T22:12:42.566438Z\u001b[0m \u001b[32m INFO\u001b[0m \u001b[2msurrealdb_core::kvs::ds\u001b[0m\u001b[2m:\u001b[0m Credentials were provided, and no root users were found. The root user 'user' will be created\n",
      "\u001b[2m2024-05-10T22:12:42.585929Z\u001b[0m \u001b[32m INFO\u001b[0m \u001b[2msurrealdb::net\u001b[0m\u001b[2m:\u001b[0m Started web server on 0.0.0.0:8000\n"
     ]
    }
   ],
   "source": [
    "# \"full\" value for the verbose backtrace, change to \"1\" for a briefer one, or remove for none.\n",
    "%env RUST_BACKTRACE=full\n",
    "\n",
    "# configure a SurrealDB database, and install the ONNX runtime (see set_surreal_ml.sh)\n",
    "# change below root_password with the password of the root user\n",
    "!chmod +x ./set_surreal_ml.sh && echo \"vld28\" | sudo -S ./set_surreal_ml.sh\n",
    "# start a SurrealDB instance\n",
    "!surreal start --auth --user \"user\" --pass \"user\" \"file://surreal\""
   ]
  }
 ],
 "metadata": {
  "kernelspec": {
   "display_name": "Python 3 (ipykernel)",
   "language": "python",
   "name": "python3"
  },
  "language_info": {
   "codemirror_mode": {
    "name": "ipython",
    "version": 3
   },
   "file_extension": ".py",
   "mimetype": "text/x-python",
   "name": "python",
   "nbconvert_exporter": "python",
   "pygments_lexer": "ipython3",
   "version": "3.10.12"
  }
 },
 "nbformat": 4,
 "nbformat_minor": 5
}

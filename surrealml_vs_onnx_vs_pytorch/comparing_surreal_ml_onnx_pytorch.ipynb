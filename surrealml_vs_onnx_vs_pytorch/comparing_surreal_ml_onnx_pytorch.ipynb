{
 "cells": [
  {
   "cell_type": "markdown",
   "metadata": {},
   "source": [
    "# Comparing execution times: `SurrealML` vs `ONNX` vs `PyTorch` "
   ]
  },
  {
   "cell_type": "markdown",
   "metadata": {},
   "source": [
    "## Table of contents\n",
    "\n",
    "1.  <a href=\"#1\">General dependencies and helpers</a>\n",
    "2.  <a href=\"#2\">Some words about SurrealML</a>\n",
    "3.  <a href=\"#3\">Problem refinement</a>\n",
    "4.  <a href=\"#4\">A typical neural network</a>\n",
    "5.  <a href=\"#5\">Loading the model to SurrealDB</a>\n",
    "6.  <a href=\"#6\">Generating and uploading fake data to SurrealDB</a>"
   ]
  },
  {
   "cell_type": "markdown",
   "metadata": {},
   "source": [
    "<h2 id=\"1\"></h2>\n",
    "\n",
    "## General dependencies and helpers"
   ]
  },
  {
   "cell_type": "markdown",
   "metadata": {},
   "source": [
    "We will start by exporting some tools we will use for timing, and operating with SurrealDB/SurrrealML..."
   ]
  },
  {
   "cell_type": "code",
   "execution_count": 52,
   "metadata": {},
   "outputs": [],
   "source": [
    "import os\n",
    "import subprocess\n",
    "import time\n",
    "from functools import wraps\n",
    "\n",
    "import torch\n",
    "import torch.nn as nn\n",
    "\n",
    "from surrealml import SurMlFile, Engine\n",
    "from helpers import remove_existing_container_if_exists\n",
    "\n",
    "from IPython.core.magic import register_cell_magic\n",
    "\n",
    "def chronometer(foo):\n",
    "    @wraps(foo)\n",
    "    def wrapper(*args, **kwargs):\n",
    "        start = time.time()\n",
    "        _ = foo(*args, **kwargs)\n",
    "        end = time.time()\n",
    "        return end - start\n",
    "\n",
    "    return wrapper\n",
    "\n",
    "@register_cell_magic\n",
    "def skip(line, cell):\n",
    "    return"
   ]
  },
  {
   "cell_type": "markdown",
   "metadata": {},
   "source": [
    "<h2 id=\"2\"></h2>\n",
    "\n",
    "## Some words about SurrealML"
   ]
  },
  {
   "cell_type": "markdown",
   "metadata": {},
   "source": [
    "According to the [official docs](https://surrealdb.com/docs/surrealml):\n",
    "    \n",
    "```text\n",
    "SurrealML is an engine that seeks to do one thing, and one thing well: store and execute trained ML models. SurrealML does not intrude on the training frameworks that are already out there, instead works with them to ease the storage, loading, and execution of models. Someone using SurrealML will be able to train their model in a chosen framework in Python, save their model, and load and execute the model in either Python or Rust.\n",
    "```"
   ]
  },
  {
   "cell_type": "markdown",
   "metadata": {},
   "source": [
    "Basically, we aim to develop and train models using `PyTorch/scikit-learn/Tensorflow/linfa`, and then load them to SurrealDB.\n",
    "\n",
    "Inside SurrealDB, a model is represented in the [.surml format](https://surrealdb.com/docs/surrealml/storage#the-anatomy-of-a-surml-file). Schematically, from top to bottom of a .surml file, we roughly have that:\n",
    "\n",
    "`.surml file` =  `4 byte integer` + `variable metadata [size specified by 4 bytes integer]` + `model parameters [ONNX format]`\n",
    "\n",
    "A .surml file is loaded by starting with the 4 bytes integer, and then using it to determine the length of the model metadata. Once the model metadata has been loaded, the loader assumes that the rest is ONNX protobuf, and parses it accordingly."
   ]
  },
  {
   "cell_type": "markdown",
   "metadata": {},
   "source": [
    "At the time of writing, in the [source code](https://github.com/surrealdb/surrealml/blob/main/surrealml/engine/__init__.py) of the `Engine` enum, we have the following docstring:"
   ]
  },
  {
   "cell_type": "markdown",
   "metadata": {},
   "source": [
    "_Attributes_:\n",
    "- **PYTORCH**: The PyTorch engine which will be PyTorch and ONNX.\n",
    "- **NATIVE**: The native engine which will be native Rust and Linfa.\n",
    "- **SKLEARN**: The scikit-learn engine which will be scikit-learn and ONNX.\n",
    "- **TENSORFLOW**: The TensorFlow engine which will be TensorFlow and ONNX.\n",
    "- **ONNX**: The ONNX engine which bypasses the conversion to ONNX."
   ]
  },
  {
   "cell_type": "markdown",
   "metadata": {},
   "source": [
    "Thus, we may infer that, for the sake of comparing `SurrealML` vs `ONNX` vs `PyTorch`, for the same model, it should be equivalent using `Engine.PYTORCH`/`Engine.SKLEARN`/`Engine.TENSORFLOW`, as irrespective of the framework used, the model will be exported to the ONNX first."
   ]
  },
  {
   "cell_type": "markdown",
   "metadata": {},
   "source": [
    "<a id=\"3\"></a>\n",
    "\n",
    "## Problem refinement"
   ]
  },
  {
   "cell_type": "markdown",
   "metadata": {},
   "source": [
    "We single out three cases that may be encountered in practice, namely:\n",
    "\n",
    "1. **Execute with SurrealML[inside SurrealDB] && fetch data from SurrealDB [optional]**: predicting with the model in .surml format _inside_ the SurrealDB, and then _optionally_ fetching the prediction from SurrealDB.\n",
    "2. **Fetch data from SurrealDB && execute with PyTorch**: fetching the data from SurrealDB and _externally_ predicting with the PyTorch model.\n",
    "3. **Fetch data from SurrealDB && execute with ONNX runtime**: fetching the data from SurrealDB and _externally_ predicting with the ONNX model."
   ]
  },
  {
   "cell_type": "markdown",
   "metadata": {},
   "source": [
    "Given the 3 scenarios above, one may deduct the following benefits of using SurrealML:"
   ]
  },
  {
   "cell_type": "markdown",
   "metadata": {},
   "source": [
    "- **Reduced Database Transactions**\n",
    "  - No need to fetch data from SurrealDB if predictions are not consumed immediately.\n",
    "  - Eliminates at least **2 database transactions**, if fetching the input data and inserting the computed predictions is not needed anymore.\n",
    "\n",
    "- **Improved Security**\n",
    "  - Operates on the input used for predictions, as well as on the calculated predictions, without needing to retrieve it from the database, enhancing security.\n"
   ]
  },
  {
   "cell_type": "markdown",
   "metadata": {},
   "source": [
    "However, one may be curious about the `performance` of SurrealML, so we will provide an implementation of an experiment to measure just this."
   ]
  },
  {
   "cell_type": "markdown",
   "metadata": {},
   "source": [
    "<h2 id=\"4\"></h2>\n",
    "\n",
    "## A toy neural network"
   ]
  },
  {
   "cell_type": "markdown",
   "metadata": {},
   "source": [
    "In the following, we define `ToyNet`, which is a two-layer feedforward neural network with ReLU activation. It consists of an input layer with 10 features, a hidden layer of 5 neurons (`fc1`), and an output layer of 1 neuron (`fc2`)."
   ]
  },
  {
   "cell_type": "code",
   "execution_count": 53,
   "metadata": {},
   "outputs": [],
   "source": [
    "class ToyNet(nn.Module):\n",
    "    def __init__(self):\n",
    "        super().__init__()\n",
    "        self.fc1 = nn.Linear(10, 5)\n",
    "        self.fc2 = nn.Linear(5, 1)\n",
    "\n",
    "    def forward(self, x: torch.Tensor) -> torch.Tensor:\n",
    "        x = torch.relu(self.fc1(x))\n",
    "        x = self.fc2(x)\n",
    "        return x\n",
    "\n",
    "    def __str__(self) -> str:\n",
    "        return self.__class__.__name__"
   ]
  },
  {
   "cell_type": "markdown",
   "metadata": {},
   "source": [
    "... and then we instantiate the model, and load a persistent version of the randomly intialized parameters of the model, from a previous run: "
   ]
  },
  {
   "cell_type": "code",
   "execution_count": 54,
   "metadata": {},
   "outputs": [
    {
     "data": {
      "text/plain": [
       "<All keys matched successfully>"
      ]
     },
     "execution_count": 54,
     "metadata": {},
     "output_type": "execute_result"
    }
   ],
   "source": [
    "model = ToyNet()\n",
    "torch.save(model.state_dict(), \"./params.pth\")\n",
    "model.load_state_dict(torch.load(\"params.pth\"))"
   ]
  },
  {
   "cell_type": "markdown",
   "metadata": {},
   "source": [
    "<h2 id=\"5\"></h2>\n",
    "\n",
    "## Loading the model to SurrealDB"
   ]
  },
  {
   "cell_type": "markdown",
   "metadata": {},
   "source": [
    "As we know from the Engine docstring, under the hood SurrealML converts any PyTorch/scikit-learn/Tensorflow model to the ONNX format, hence we switch the model to inference mode:"
   ]
  },
  {
   "cell_type": "code",
   "execution_count": 55,
   "metadata": {},
   "outputs": [
    {
     "data": {
      "text/plain": [
       "ToyNet(\n",
       "  (fc1): Linear(in_features=10, out_features=5, bias=True)\n",
       "  (fc2): Linear(in_features=5, out_features=1, bias=True)\n",
       ")"
      ]
     },
     "execution_count": 55,
     "metadata": {},
     "output_type": "execute_result"
    }
   ],
   "source": [
    "model.eval()"
   ]
  },
  {
   "cell_type": "markdown",
   "metadata": {},
   "source": [
    "The `SurMlFile` object comes in handy to save our model in the `.surml` format. As our model was developed using PyTorch, we select the `Engine.PYTORCH` option:"
   ]
  },
  {
   "cell_type": "code",
   "execution_count": 56,
   "metadata": {},
   "outputs": [
    {
     "name": "stderr",
     "output_type": "stream",
     "text": [
      "/home/vld28/Desktop/dev/article/surrealml-vs-onnx-vs-pytorch/surrealml-vs-onnx-vs-pytorch/.venv/lib/python3.11/site-packages/torch/onnx/utils.py:847: UserWarning: no signature found for builtin <built-in method __call__ of PyCapsule object at 0x7f3683f0def0>, skipping _decide_input_format\n",
      "  warnings.warn(f\"{e}, skipping _decide_input_format\")\n"
     ]
    }
   ],
   "source": [
    "# Owing to the fact that the SURML format builds on the ONNX format, we have to specify an example input\n",
    "example_input = torch.rand(1, 10)\n",
    "surml_file = SurMlFile(\n",
    "    model=model, name=str(model), inputs=example_input, engine=Engine.PYTORCH\n",
    ")\n",
    "\n",
    "# we also choose a local path where to save the model, as well as a version of the model\n",
    "path_surml = \"./model.surml\"\n",
    "surml_file.add_version(\"0.0.1\")\n",
    "surml_file.save(path_surml)"
   ]
  },
  {
   "cell_type": "markdown",
   "metadata": {},
   "source": [
    "It is high time to start a SurrealDB instance, ready to be accessed at port `8000` of `localhost`. Moreover, as SurrealDB organizes the data in a two-tier way, we have to specify a namespace, let´s name it `comparison_test`, as well as a database, for which we choose `surrealml_vs_onnx_vs_pytorch`."
   ]
  },
  {
   "cell_type": "code",
   "execution_count": 57,
   "metadata": {},
   "outputs": [],
   "source": [
    "URL = \"http://0.0.0.0:8000\"\n",
    "NS = \"comparison_test\"\n",
    "DB = \"surrealml_vs_onnx_vs_pytorch\""
   ]
  },
  {
   "cell_type": "markdown",
   "metadata": {},
   "source": [
    "__NOTE__: From here on, those who wish to follow should have `Docker Engine` installed, as well as __v.1.5.4-1.5.5__ of SurrealDB. "
   ]
  },
  {
   "cell_type": "markdown",
   "metadata": {},
   "source": [
    "Subsequently, we will use the SurrealDB CLI programatically to upload the model to SurrealDB:"
   ]
  },
  {
   "cell_type": "code",
   "execution_count": 58,
   "metadata": {},
   "outputs": [
    {
     "name": "stderr",
     "output_type": "stream",
     "text": [
      "\u001b[2m2024-10-15T23:26:26.907632Z\u001b[0m \u001b[32m INFO\u001b[0m \u001b[2msurrealdb::net\u001b[0m\u001b[2m:\u001b[0m SIGTERM received. Waiting for graceful shutdown... A second signal will force an immediate shutdown\n",
      "\u001b[2m2024-10-15T23:26:26.907760Z\u001b[0m \u001b[32m INFO\u001b[0m \u001b[2msurrealdb::net\u001b[0m\u001b[2m:\u001b[0m Web server stopped. Bye!\n",
      "\u001b[2m2024-10-15T23:26:26.907794Z\u001b[0m \u001b[31mERROR\u001b[0m \u001b[2msurreal::cli::start\u001b[0m\u001b[2m:\u001b[0m Failed to send shutdown signal to task: sending on a closed channel\n"
     ]
    },
    {
     "name": "stdout",
     "output_type": "stream",
     "text": [
      "surrealdb\n",
      "No existing container named 'surrealdb' found or could not be removed.\n",
      "******************************************************************************************************************************************************************************************************** \n",
      "\n",
      " ********************************************************************************************************************************************************************************************************\n"
     ]
    },
    {
     "name": "stderr",
     "output_type": "stream",
     "text": [
      "Error response from daemon: removal of container surrealdb is already in progress\n",
      "v1.5.5: Pulling from surrealdb/surrealdb\n",
      "Digest: sha256:b52fcd0b7ce8802fe376e220508a2cbcc082c4f9443e81775f7111437273d4ad\n",
      "Status: Image is up to date for surrealdb/surrealdb:v1.5.5\n"
     ]
    },
    {
     "name": "stdout",
     "output_type": "stream",
     "text": [
      "\n",
      " .d8888b.                                             888 8888888b.  888888b.\n",
      "d88P  Y88b                                            888 888  'Y88b 888  '88b\n",
      "Y88b.                                                 888 888    888 888  .88P\n",
      " 'Y888b.   888  888 888d888 888d888  .d88b.   8888b.  888 888    888 8888888K.\n",
      "    'Y88b. 888  888 888P'   888P'   d8P  Y8b     '88b 888 888    888 888  'Y88b\n",
      "      '888 888  888 888     888     88888888 .d888888 888 888    888 888    888\n",
      "Y88b  d88P Y88b 888 888     888     Y8b.     888  888 888 888  .d88P 888   d88P\n",
      " 'Y8888P'   'Y88888 888     888      'Y8888  'Y888888 888 8888888P'  8888888P'\n",
      "\n",
      "\n"
     ]
    },
    {
     "name": "stderr",
     "output_type": "stream",
     "text": [
      "\u001b[2m2024-10-15T23:26:29.205887Z\u001b[0m \u001b[32m INFO\u001b[0m \u001b[2msurreal::env\u001b[0m\u001b[2m:\u001b[0m Running 1.5.5 for linux on x86_64\n",
      "\u001b[2m2024-10-15T23:26:29.205908Z\u001b[0m \u001b[33m WARN\u001b[0m \u001b[2msurreal::dbs\u001b[0m\u001b[2m:\u001b[0m ❌🔒 IMPORTANT: Authentication is disabled. This is not recommended for production use. 🔒❌\n",
      "\u001b[2m2024-10-15T23:26:29.205922Z\u001b[0m \u001b[32m INFO\u001b[0m \u001b[2msurrealdb_core::kvs::ds\u001b[0m\u001b[2m:\u001b[0m Starting kvs store in memory\n",
      "\u001b[2m2024-10-15T23:26:29.205925Z\u001b[0m \u001b[32m INFO\u001b[0m \u001b[2msurrealdb_core::kvs::ds\u001b[0m\u001b[2m:\u001b[0m Started kvs store in memory\n",
      "\u001b[2m2024-10-15T23:26:29.206221Z\u001b[0m \u001b[32m INFO\u001b[0m \u001b[2msurrealdb::net\u001b[0m\u001b[2m:\u001b[0m Started web server on 0.0.0.0:8000\n"
     ]
    },
    {
     "name": "stdout",
     "output_type": "stream",
     "text": [
      "******************************************************************************************************************************************************************************************************** \n",
      "\n",
      " ********************************************************************************************************************************************************************************************************\n",
      "\u001b[2m2024-10-15T23:26:31.613906Z\u001b[0m \u001b[32m INFO\u001b[0m \u001b[2msurreal::cli::ml::import\u001b[0m\u001b[2m:\u001b[0m The SurrealML file was imported successfully\n",
      "\n",
      "******************************************************************************************************************************************************************************************************** \n",
      "\n",
      " ********************************************************************************************************************************************************************************************************\n"
     ]
    }
   ],
   "source": [
    "local_model_directory = os.getcwd()\n",
    "model_file = \"model.surml\"\n",
    "container_name = \"surrealdb\"\n",
    "\n",
    "remove_existing_container_if_exists(container_name)\n",
    "print(\"*\" * 200, \"\\n\" * 2, \"*\" * 200)\n",
    "\n",
    "# starting the Docker container\n",
    "docker_run_command = [\n",
    "    \"docker\",\n",
    "    \"run\",\n",
    "    \"--name\", \n",
    "    container_name,\n",
    "    \"--user\",\n",
    "    \"root\",\n",
    "    \"--rm\",\n",
    "    \"--pull\", \"always\",\n",
    "    \"-p\", \"8000:8000\",\n",
    "    \"-v\", f\"{local_model_directory}:/models\", #we mount a volume, as the CLI tools are inside the container\n",
    "    \"-e\", \"RUST_BACKTRACE=full\", #include Rust backtrace for debugging\n",
    "    \"surrealdb/surrealdb:v1.5.5\", #we go for SurrealDB 1.5.5\n",
    "    \"start\",\n",
    "]\n",
    "\n",
    "container_process = subprocess.Popen(docker_run_command)\n",
    "time.sleep(4)\n",
    "print(\"*\" * 200, \"\\n\" * 2, \"*\" * 200)\n",
    "\n",
    "# now we use surreal ml to import the model\n",
    "try:\n",
    "    command_inside_container = [\n",
    "        \"docker\",\n",
    "        \"exec\",\n",
    "        container_name,\n",
    "        \"/surreal\",\n",
    "        \"ml\",  \n",
    "        \"import\",\n",
    "        \"--endpoint\",\n",
    "        \"http://0.0.0.0:8000\",\n",
    "        \"--ns\",\n",
    "        \"comparison_test\",\n",
    "        \"--db\",\n",
    "        \"surrealml_vs_onnx_vs_pytorch\",\n",
    "        \"/models/\" + model_file,\n",
    "    ]\n",
    "    output = subprocess.check_output(command_inside_container, stderr=subprocess.STDOUT)\n",
    "    print(output.decode(\"utf-8\"))\n",
    "except subprocess.CalledProcessError as e:\n",
    "    print(f\"Command '{e.cmd}' failed with return code {e.returncode}.\")\n",
    "    print(\"Output:\\n\", e.output.decode(\"utf-8\"))\n",
    "\n",
    "print(\"*\" * 200, \"\\n\" * 2, \"*\" * 200)"
   ]
  },
  {
   "cell_type": "markdown",
   "metadata": {},
   "source": [
    "According to the last logs, that resulted from executing the `surreal ml` command inside the `surrealdb` Docker container, the .surml file should be in SurrealDB. By using the [surreal sql](https://surrealdb.com/docs/surrealdb/cli/sql#sql-command) command inside the `surrealdb` container as well, I can see that the model was correctly uploaded to SurrealDB:"
   ]
  },
  {
   "attachments": {
    "image.png": {
     "image/png": "[encoded data removed]"
    }
   },
   "cell_type": "markdown",
   "metadata": {},
   "source": [
    "![image.png](attachment:image.png)"
   ]
  },
  {
   "cell_type": "markdown",
   "metadata": {},
   "source": [
    "According to the documentation, the instance of the SurMlFile has an equivalent `.upload()` method, however I could not figure out what I did wrongly..."
   ]
  },
  {
   "cell_type": "code",
   "execution_count": 68,
   "metadata": {},
   "outputs": [],
   "source": [
    "%%capture\n",
    "\"\"\"\n",
    "###################################################################################################\n",
    "--> The other way to upload a model to SurrealDB. Could not make it work by the time of writing :( \n",
    "###################################################################################################\n",
    "\n",
    "surml_file.upload(\n",
    "    path=\"./model.surml\",\n",
    "    url=URL,\n",
    "    chunk_size=36864,\n",
    "    namespace=NS,\n",
    "    database=DB,\n",
    "    username=USR,\n",
    "    password=PASS)\n",
    "\"\"\""
   ]
  },
  {
   "cell_type": "markdown",
   "metadata": {},
   "source": [
    "<h2 id=\"6\"></h2>\n",
    "\n",
    "## Generating and uploading fake data to SurrealDB"
   ]
  },
  {
   "cell_type": "code",
   "execution_count": 69,
   "metadata": {
    "scrolled": true
   },
   "outputs": [
    {
     "ename": "TypeError",
     "evalue": "Surreal.__init__() got an unexpected keyword argument 'log_level'",
     "output_type": "error",
     "traceback": [
      "\u001b[0;31m---------------------------------------------------------------------------\u001b[0m",
      "\u001b[0;31mTypeError\u001b[0m                                 Traceback (most recent call last)",
      "Cell \u001b[0;32mIn[69], line 7\u001b[0m\n\u001b[1;32m      1\u001b[0m \u001b[38;5;124;03m\"\"\"\u001b[39;00m\n\u001b[1;32m      2\u001b[0m \u001b[38;5;124;03mThe code that was used to generate the test data, and load it in SurrealDB\u001b[39;00m\n\u001b[1;32m      3\u001b[0m \u001b[38;5;124;03m\"\"\"\u001b[39;00m\n\u001b[1;32m      5\u001b[0m \u001b[38;5;28;01mfrom\u001b[39;00m \u001b[38;5;21;01msurrealist\u001b[39;00m \u001b[38;5;28;01mimport\u001b[39;00m Surreal\n\u001b[0;32m----> 7\u001b[0m surreal \u001b[38;5;241m=\u001b[39m \u001b[43mSurreal\u001b[49m\u001b[43m(\u001b[49m\n\u001b[1;32m      8\u001b[0m \u001b[43m    \u001b[49m\u001b[43murl\u001b[49m\u001b[38;5;241;43m=\u001b[39;49m\u001b[43mURL\u001b[49m\u001b[43m,\u001b[49m\n\u001b[1;32m      9\u001b[0m \u001b[43m    \u001b[49m\u001b[43mnamespace\u001b[49m\u001b[38;5;241;43m=\u001b[39;49m\u001b[43mNS\u001b[49m\u001b[43m,\u001b[49m\n\u001b[1;32m     10\u001b[0m \u001b[43m    \u001b[49m\u001b[43mdatabase\u001b[49m\u001b[38;5;241;43m=\u001b[39;49m\u001b[43mDB\u001b[49m\u001b[43m,\u001b[49m\n\u001b[1;32m     11\u001b[0m \u001b[43m    \u001b[49m\u001b[43mcredentials\u001b[49m\u001b[38;5;241;43m=\u001b[39;49m\u001b[43mCRD\u001b[49m\u001b[43m,\u001b[49m\n\u001b[1;32m     12\u001b[0m \u001b[43m    \u001b[49m\u001b[43mlog_level\u001b[49m\u001b[38;5;241;43m=\u001b[39;49m\u001b[38;5;124;43m\"\u001b[39;49m\u001b[38;5;124;43mERROR\u001b[39;49m\u001b[38;5;124;43m\"\u001b[39;49m\u001b[43m,\u001b[49m\n\u001b[1;32m     13\u001b[0m \u001b[43m    \u001b[49m\u001b[43mtimeout\u001b[49m\u001b[38;5;241;43m=\u001b[39;49m\u001b[38;5;241;43m10\u001b[39;49m\u001b[38;5;241;43m*\u001b[39;49m\u001b[38;5;241;43m*\u001b[39;49m\u001b[38;5;241;43m4\u001b[39;49m\u001b[43m,\u001b[49m\n\u001b[1;32m     14\u001b[0m \u001b[43m)\u001b[49m\n\u001b[1;32m     16\u001b[0m max_test_size \u001b[38;5;241m=\u001b[39m \u001b[38;5;241m10\u001b[39m\u001b[38;5;241m*\u001b[39m\u001b[38;5;241m*\u001b[39m\u001b[38;5;241m4\u001b[39m\n\u001b[1;32m     17\u001b[0m \u001b[38;5;66;03m# chunk_size should divide max_test_size, we do it as we create the test inputs in memory, and thus we should avoid a memory crash.\u001b[39;00m\n",
      "\u001b[0;31mTypeError\u001b[0m: Surreal.__init__() got an unexpected keyword argument 'log_level'"
     ]
    }
   ],
   "source": [
    "\"\"\"\n",
    "The code that was used to generate the test data, and load it in SurrealDB\n",
    "\"\"\"\n",
    "\n",
    "from surrealist import Surreal\n",
    "\n",
    "surreal = Surreal(\n",
    "    url=URL,\n",
    "    namespace=NS,\n",
    "    database=DB,\n",
    "    credentials=CRD,\n",
    "    log_level=\"ERROR\",\n",
    "    timeout=10**4,\n",
    ")\n",
    "\n",
    "max_test_size = 10**4\n",
    "# chunk_size should divide max_test_size, we do it as we create the test inputs in memory, and thus we should avoid a memory crash.\n",
    "chunk_size = 10**2\n",
    "number_chunks = int(max_test_size / chunk_size)\n",
    "\n",
    "# likewise, test_step should divide max_test_size\n",
    "test_step = 10**3\n",
    "number_steps = int(max_test_size / test_step)\n",
    "\n",
    "with surreal.connect() as connect:\n",
    "    for _ in range(number_chunks):\n",
    "        test_inputs = torch.rand(chunk_size, 10).tolist()\n",
    "        [\n",
    "            connect.query(f\"CREATE inputs:ulid() SET value = {input};\")\n",
    "            for input in test_inputs\n",
    "        ]"
   ]
  },
  {
   "cell_type": "code",
   "execution_count": null,
   "metadata": {},
   "outputs": [],
   "source": [
    "surreal_times = []\n",
    "try:\n",
    "    with surreal.connect() as connect:\n",
    "        for increment in range(number_steps):\n",
    "            test_size = (increment + 1) * test_step\n",
    "\n",
    "            # in a prior run, the query result was tested with assert query_result[\"status\"] == \"OK\"\n",
    "            # also do print(query_result) to check further\n",
    "            @chronometer\n",
    "            def evaluate_with_surrealdb():\n",
    "                _ = connect.query(\n",
    "                    f\"SELECT VALUE ml::Fnn<0.0.1>(value) FROM inputs LIMIT {test_size};\"\n",
    "                ).to_dict()[\"result\"]\n",
    "\n",
    "            elapsed_time = evaluate_with_surrealdb()\n",
    "            print(f\"For {test_size} datapoints, it took {elapsed_time} seconds\")\n",
    "            surreal_times.append(elapsed_time)\n",
    "except Exception as e:\n",
    "    print(e)"
   ]
  },
  {
   "cell_type": "code",
   "execution_count": null,
   "metadata": {},
   "outputs": [],
   "source": [
    "pytorch_times = []\n",
    "try:\n",
    "    with surreal.connect() as connect:\n",
    "        for increment in range(1, 11):\n",
    "            test_size = increment * test_step\n",
    "\n",
    "            @chronometer\n",
    "            def evaluate_pytorch():\n",
    "                inputs = connect.query(\n",
    "                    f\"SELECT VALUE value FROM inputs LIMIT {test_size}\"\n",
    "                ).to_dict()[\"result\"]\n",
    "\n",
    "                with torch.no_grad():\n",
    "                    _ = model.forward(torch.tensor(inputs))\n",
    "\n",
    "            elapsed_time = evaluate_pytorch()\n",
    "            print(f\"For {test_size} datapoints, it took {elapsed_time} seconds\")\n",
    "            pytorch_times.append(elapsed_time)\n",
    "except Exception as e:\n",
    "    print(e)"
   ]
  }
 ],
 "metadata": {
  "kernelspec": {
   "display_name": ".venv",
   "language": "python",
   "name": "python3"
  },
  "language_info": {
   "codemirror_mode": {
    "name": "ipython",
    "version": 3
   },
   "file_extension": ".py",
   "mimetype": "text/x-python",
   "name": "python",
   "nbconvert_exporter": "python",
   "pygments_lexer": "ipython3",
   "version": "3.11.10"
  }
 },
 "nbformat": 4,
 "nbformat_minor": 4
}

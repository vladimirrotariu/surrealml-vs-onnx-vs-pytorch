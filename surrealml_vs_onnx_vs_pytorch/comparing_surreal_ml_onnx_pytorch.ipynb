{
 "cells": [
  {
   "cell_type": "markdown",
   "metadata": {},
   "source": [
    "# Benchmarking `SurrealML` vs `ONNX` vs `PyTorch` "
   ]
  },
  {
   "cell_type": "markdown",
   "metadata": {},
   "source": [
    "## Table of contents\n",
    "\n",
    "1.  <a href=\"#1\">General dependencies and helpers</a>\n",
    "2.  <a href=\"#2\">Some words about SurrealML</a>\n",
    "3.  <a href=\"#3\">Problem refinement</a>\n",
    "4.  <a href=\"#4\">A typical neural network</a>\n",
    "5.  <a href=\"#5\">Starting a SurrealDB instance</a>\n",
    "6.  <a href=\"#6\">Loading the model to SurrealDB</a>\n",
    "7.  <a href=\"#7\">Exporting the model to ONNX</a>\n",
    "8.  <a href=\"#8\">Generating and inserting fake data to SurrealDB</a>\n",
    "9.  <a href=\"#9\">Benchmarking `SurrealML` vs `ONNX` vs `PyTorch`</a>"
   ]
  },
  {
   "cell_type": "markdown",
   "metadata": {},
   "source": [
    "<h2 id=\"1\"></h2>\n",
    "\n",
    "## General dependencies and helpers"
   ]
  },
  {
   "cell_type": "markdown",
   "metadata": {},
   "source": [
    "We will start by exporting some tools we will use for timing, and operating with SurrealDB/SurrrealML..."
   ]
  },
  {
   "cell_type": "code",
   "execution_count": 3,
   "metadata": {},
   "outputs": [],
   "source": [
    "import os\n",
    "import time\n",
    "import platform\n",
    "import psutil\n",
    "from datetime import datetime\n",
    "from functools import wraps\n",
    "import numpy as np\n",
    "from onnxruntime.capi.onnxruntime_inference_collection import InferenceSession\n",
    "\n",
    "import torch\n",
    "import torch.nn as nn\n",
    "\n",
    "from surrealml import SurMlFile, Engine\n",
    "from surrealist import Surreal\n",
    "import matplotlib.pyplot as plt\n",
    "import seaborn as sns\n",
    "\n",
    "from IPython.core.magic import register_cell_magic\n",
    "\n",
    "\n",
    "def chronometer(foo):\n",
    "    @wraps(foo)\n",
    "    def wrapper(*args, **kwargs):\n",
    "        start = time.time()\n",
    "        output = foo(*args, **kwargs)\n",
    "        end = time.time()\n",
    "        return end - start, output\n",
    "\n",
    "    return wrapper\n",
    "\n",
    "\n",
    "@register_cell_magic\n",
    "def skip(line, cell):\n",
    "    return"
   ]
  },
  {
   "cell_type": "markdown",
   "metadata": {},
   "source": [
    "<h2 id=\"2\"></h2>\n",
    "\n",
    "## Some words about SurrealML"
   ]
  },
  {
   "cell_type": "markdown",
   "metadata": {},
   "source": [
    "According to the [official docs](https://surrealdb.com/docs/surrealml):\n",
    "    \n",
    "```text\n",
    "SurrealML is an engine that seeks to do one thing, and one thing well: store and execute trained ML models. SurrealML does not intrude on the training frameworks that are already out there, instead works with them to ease the storage, loading, and execution of models. Someone using SurrealML will be able to train their model in a chosen framework in Python, save their model, and load and execute the model in either Python or Rust.\n",
    "```"
   ]
  },
  {
   "cell_type": "markdown",
   "metadata": {},
   "source": [
    "Basically, we aim to develop and train models using `PyTorch/scikit-learn/Tensorflow/linfa`, and then load them to SurrealDB.\n",
    "\n",
    "Inside SurrealDB, a model is represented in the [.surml format](https://surrealdb.com/docs/surrealml/storage#the-anatomy-of-a-surml-file). Schematically, from top to bottom of a .surml file, we roughly have that:\n",
    "\n",
    "`.surml file` =  `4 byte integer` + `variable metadata [size specified by 4 bytes integer]` + `model parameters [ONNX format]`\n",
    "\n",
    "A .surml file is loaded by starting with the 4 bytes integer, and then using it to determine the length of the model metadata. Once the model metadata has been loaded, the loader assumes that the rest is ONNX protobuf, and parses it accordingly."
   ]
  },
  {
   "cell_type": "markdown",
   "metadata": {},
   "source": [
    "At the time of writing, in the [source code](https://github.com/surrealdb/surrealml/blob/main/surrealml/engine/__init__.py) of the `Engine` enum, we have the following docstring:"
   ]
  },
  {
   "cell_type": "markdown",
   "metadata": {},
   "source": [
    "_Attributes_:\n",
    "- **PYTORCH**: The PyTorch engine which will be PyTorch and ONNX.\n",
    "- **NATIVE**: The native engine which will be native Rust and Linfa.\n",
    "- **SKLEARN**: The scikit-learn engine which will be scikit-learn and ONNX.\n",
    "- **TENSORFLOW**: The TensorFlow engine which will be TensorFlow and ONNX.\n",
    "- **ONNX**: The ONNX engine which bypasses the conversion to ONNX."
   ]
  },
  {
   "cell_type": "markdown",
   "metadata": {},
   "source": [
    "Thus, we may infer that, for the sake of comparing `SurrealML` vs `ONNX` vs `PyTorch`, for the same model, it should be equivalent using `Engine.PYTORCH`/`Engine.SKLEARN`/`Engine.TENSORFLOW`, as irrespective of the framework used, the model will be exported to the ONNX first."
   ]
  },
  {
   "cell_type": "markdown",
   "metadata": {},
   "source": [
    "<a id=\"3\"></a>\n",
    "\n",
    "## Problem refinement"
   ]
  },
  {
   "cell_type": "markdown",
   "metadata": {},
   "source": [
    "We single out three cases that may be encountered in practice, namely:\n",
    "\n",
    "1. **Execute with SurrealML[inside SurrealDB] && fetch data from SurrealDB [optional]**: predicting with the model in .surml format _inside_ the SurrealDB, and then _optionally_ (here included) fetching the prediction from SurrealDB.\n",
    "2. **Fetch data from SurrealDB && execute with PyTorch**: fetching the data from SurrealDB and _externally_ predicting with the PyTorch model.\n",
    "3. **Fetch data from SurrealDB && execute with ONNX runtime**: fetching the data from SurrealDB and _externally_ predicting with the ONNX model."
   ]
  },
  {
   "cell_type": "markdown",
   "metadata": {},
   "source": [
    "Given the 3 scenarios above, one may deduct the following benefits of using SurrealML:"
   ]
  },
  {
   "cell_type": "markdown",
   "metadata": {},
   "source": [
    "- **Reduced Database Transactions**\n",
    "  - No need to fetch data from SurrealDB if predictions are not consumed immediately.\n",
    "  - Eliminates at least 2 data-heavy database transactions, if fetching the input data and inserting the computed predictions are not needed anymore.\n",
    "\n",
    "- **Improved Security**\n",
    "  - Operates on the input used for predictions, as well as on the calculated predictions, without needing to retrieve it from the database, enhancing security.\n"
   ]
  },
  {
   "cell_type": "markdown",
   "metadata": {},
   "source": [
    "However, one may be curious about the `performance` of SurrealML, so we will provide an implementation of an experiment to measure just this."
   ]
  },
  {
   "cell_type": "markdown",
   "metadata": {},
   "source": [
    "<h2 id=\"4\"></h2>\n",
    "\n",
    "## A toy neural network"
   ]
  },
  {
   "cell_type": "markdown",
   "metadata": {},
   "source": [
    "In the following, we define `ToyNet`, which is a two-layer feedforward neural network with ReLU activation. It consists of an input layer with 10 features, a hidden layer of 200 neurons (`fc1`), and an output layer of 1 neuron (`fc2`)."
   ]
  },
  {
   "cell_type": "code",
   "execution_count": 4,
   "metadata": {},
   "outputs": [],
   "source": [
    "class ToyNet(nn.Module):\n",
    "    def __init__(self):\n",
    "        super().__init__()\n",
    "        self.fc1 = nn.Linear(10, 200)\n",
    "        self.fc2 = nn.Linear(200, 300)\n",
    "        self.fc3 = nn.Linear(300, 1)\n",
    "\n",
    "    def forward(self, x: torch.Tensor) -> torch.Tensor:\n",
    "        x = torch.relu(self.fc1(x))\n",
    "        x = torch.relu(self.fc2(x))\n",
    "        x = self.fc3(x)\n",
    "        return x\n",
    "\n",
    "    def __str__(self) -> str:\n",
    "        return self.__class__.__name__"
   ]
  },
  {
   "cell_type": "markdown",
   "metadata": {},
   "source": [
    "... and then we instantiate the model, and load a persistent version of the randomly intialized parameters of the model, from a previous run: "
   ]
  },
  {
   "cell_type": "code",
   "execution_count": 5,
   "metadata": {},
   "outputs": [
    {
     "data": {
      "text/plain": [
       "<All keys matched successfully>"
      ]
     },
     "execution_count": 5,
     "metadata": {},
     "output_type": "execute_result"
    }
   ],
   "source": [
    "model = ToyNet()\n",
    "# torch.save(model.state_dict(), \"./params.pth\")\n",
    "model.load_state_dict(torch.load(\"params.pth\"))"
   ]
  },
  {
   "cell_type": "markdown",
   "metadata": {},
   "source": [
    "<h2 id=\"5\"></h2>\n",
    "\n",
    "## Starting a SurrealDB instance"
   ]
  },
  {
   "cell_type": "markdown",
   "metadata": {},
   "source": [
    "__NOTE__: From here on, we mention that this notebook has been tested explicitly and found compatible with __v.1.5.4-1.5.5__ of SurrealDB. Also notice that running the Jupyter cell below will kill any process running "
   ]
  },
  {
   "cell_type": "markdown",
   "metadata": {},
   "source": [
    "In the same directory as this notebook, there is the script `download_surreal_db_v1.5.5.sh`. We make it executable first, and then run it, noting that we have to echo the pasword of the current user..."
   ]
  },
  {
   "cell_type": "code",
   "execution_count": 6,
   "metadata": {},
   "outputs": [
    {
     "name": "stdout",
     "output_type": "stream",
     "text": [
      "[sudo] password for vld28: Caching password...\n",
      "Downloading SurrealDB v1.5.5 for amd64...\n",
      "  % Total    % Received % Xferd  Average Speed   Time    Time     Time  Current\n",
      "                                 Dload  Upload   Total   Spent    Left  Speed\n",
      "  0     0    0     0    0     0      0      0 --:--:-- --:--:-- --:--:--     0\n",
      "100 16.1M  100 16.1M    0     0   9.8M      0  0:00:01  0:00:01 --:--:-- 27.8M\n",
      "Extracting surreal-v1.5.5.linux-amd64.tgz...\n",
      "Please enter your password to move the SurrealDB binary to /usr/local/bin...\n",
      "SurrealDB v1.5.5 installed successfully.\n"
     ]
    }
   ],
   "source": [
    "! chmod +x ./download_surreal_db_v1.5.5.sh && echo \"user_pass\" | sudo -S echo \"Caching password...\" && ./download_surreal_db_v1.5.5.sh"
   ]
  },
  {
   "cell_type": "markdown",
   "metadata": {},
   "source": [
    "It is high time to start a SurrealDB instance, ready to be accessed at the port `53333` of `localhost`. Let us start an instance of SurrealDB with [RocksDB](https://surrealdb.com/docs/surrealdb/cli/start#rocksdb) as the storage engine, choosing to store the data in the directory `./fake_data`..."
   ]
  },
  {
   "cell_type": "markdown",
   "metadata": {},
   "source": [
    "`!!!` Running the cell below will result in killing any process running on port `53333`, proceed with caution..."
   ]
  },
  {
   "cell_type": "code",
   "execution_count": 7,
   "metadata": {},
   "outputs": [
    {
     "name": "stdout",
     "output_type": "stream",
     "text": [
      "\n",
      " .d8888b.                                             888 8888888b.  888888b.\n",
      "d88P  Y88b                                            888 888  'Y88b 888  '88b\n",
      "Y88b.                                                 888 888    888 888  .88P\n",
      " 'Y888b.   888  888 888d888 888d888  .d88b.   8888b.  888 888    888 8888888K.\n",
      "    'Y88b. 888  888 888P'   888P'   d8P  Y8b     '88b 888 888    888 888  'Y88b\n",
      "      '888 888  888 888     888     88888888 .d888888 888 888    888 888    888\n",
      "Y88b  d88P Y88b 888 888     888     Y8b.     888  888 888 888  .d88P 888   d88P\n",
      " 'Y8888P'   'Y88888 888     888      'Y8888  'Y888888 888 8888888P'  8888888P'\n",
      "\n",
      "\n",
      "\u001b[2m2024-10-24T03:49:15.261274Z\u001b[0m \u001b[32m INFO\u001b[0m \u001b[2msurreal::env\u001b[0m\u001b[2m:\u001b[0m Running 1.5.5 for linux on x86_64\n",
      "\u001b[2m2024-10-24T03:49:15.261290Z\u001b[0m \u001b[33m WARN\u001b[0m \u001b[2msurreal::dbs\u001b[0m\u001b[2m:\u001b[0m ❌🔒 IMPORTANT: Authentication is disabled. This is not recommended for production use. 🔒❌\n",
      "\u001b[2m2024-10-24T03:49:15.261303Z\u001b[0m \u001b[32m INFO\u001b[0m \u001b[2msurrealdb_core::kvs::ds\u001b[0m\u001b[2m:\u001b[0m Starting kvs store at rocksdb://fake_data\n",
      "\u001b[2m2024-10-24T03:49:15.379523Z\u001b[0m \u001b[32m INFO\u001b[0m \u001b[2msurrealdb_core::kvs::ds\u001b[0m\u001b[2m:\u001b[0m Started kvs store at rocksdb://fake_data\n",
      "\u001b[2m2024-10-24T03:49:15.382394Z\u001b[0m \u001b[32m INFO\u001b[0m \u001b[2msurrealdb::net\u001b[0m\u001b[2m:\u001b[0m Started web server on 0.0.0.0:53333\n"
     ]
    }
   ],
   "source": [
    "# we first kill any process on port 53333\n",
    "! lsof -t -i :53333 | xargs -r kill\n",
    "\n",
    "# we cannot execute background processes directly in a Jupyter cell, hence we use os.system()...\n",
    "os.system(\n",
    "    \"nohup surreal start --bind 0.0.0.0:53333 rocksdb://fake_data > surreal.log 2>&1 &\"\n",
    ")\n",
    "\n",
    "time.sleep(\n",
    "    5\n",
    ")  # we wait 5 seconds, such that Surreal is running, and then check its logs...\n",
    "\n",
    "!cat surreal.log"
   ]
  },
  {
   "cell_type": "markdown",
   "metadata": {},
   "source": [
    "<h2 id=\"6\"></h2>\n",
    "\n",
    "## Loading the model to SurrealDB"
   ]
  },
  {
   "cell_type": "markdown",
   "metadata": {},
   "source": [
    "As we know from the Engine docstring, under the hood SurrealML converts any PyTorch/scikit-learn/Tensorflow model to the ONNX format, hence we switch the model to inference mode:"
   ]
  },
  {
   "cell_type": "code",
   "execution_count": 8,
   "metadata": {},
   "outputs": [
    {
     "data": {
      "text/plain": [
       "ToyNet(\n",
       "  (fc1): Linear(in_features=10, out_features=200, bias=True)\n",
       "  (fc2): Linear(in_features=200, out_features=300, bias=True)\n",
       "  (fc3): Linear(in_features=300, out_features=1, bias=True)\n",
       ")"
      ]
     },
     "execution_count": 8,
     "metadata": {},
     "output_type": "execute_result"
    }
   ],
   "source": [
    "model.eval()"
   ]
  },
  {
   "cell_type": "markdown",
   "metadata": {},
   "source": [
    "The `SurMlFile` object comes in handy to save our model in the `.surml` format. As our model was developed using PyTorch, we select the `Engine.PYTORCH` option:"
   ]
  },
  {
   "cell_type": "code",
   "execution_count": 9,
   "metadata": {},
   "outputs": [
    {
     "name": "stderr",
     "output_type": "stream",
     "text": [
      "/home/vld28/Desktop/dev/article/surrealml-vs-onnx-vs-pytorch/surrealml-vs-onnx-vs-pytorch/.venv/lib/python3.11/site-packages/torch/onnx/utils.py:847: UserWarning: no signature found for builtin <built-in method __call__ of PyCapsule object at 0x7f7a880b6a00>, skipping _decide_input_format\n",
      "  warnings.warn(f\"{e}, skipping _decide_input_format\")\n"
     ]
    }
   ],
   "source": [
    "# owing to the fact that the SURML format builds on the ONNX format, we have to specify an example input\n",
    "# for convecience, we take an arbitrary batch size for testing of 2**16\n",
    "example_input = torch.rand(1, 10)\n",
    "surml_file = SurMlFile(\n",
    "    model=model, name=str(model), inputs=example_input, engine=Engine.PYTORCH\n",
    ")\n",
    "\n",
    "# we name conveniently the 10 feature columns, such that we may perform inference inside SurrealDB later\n",
    "for index in range(10):\n",
    "    surml_file.add_column(f\"feature_{index+1}\")\n",
    "\n",
    "# we also choose a local path where to save the model, as well as a version of the model\n",
    "path_surml = \"./model.surml\"\n",
    "surml_file.add_version(\"0.0.1\")\n",
    "surml_file.save(path_surml)"
   ]
  },
  {
   "cell_type": "markdown",
   "metadata": {},
   "source": [
    "Subsequently, we will use the SurrealDB CLI programatically to upload the model to SurrealDB. First notice that SurrealDB organizes its data on two tiers, namespaces and databases. For our purposes, we go for the namespace `comparison_test`, endowing it with the database `surrealml_vs_onnx_vs_pytorch`"
   ]
  },
  {
   "cell_type": "code",
   "execution_count": 10,
   "metadata": {},
   "outputs": [
    {
     "name": "stdout",
     "output_type": "stream",
     "text": [
      "\u001b[2m2024-10-24T03:49:21.395761Z\u001b[0m \u001b[32m INFO\u001b[0m \u001b[2msurreal::cli::ml::import\u001b[0m\u001b[2m:\u001b[0m The SurrealML file was imported successfully\n"
     ]
    }
   ],
   "source": [
    "!surreal ml import --endpoint \"http://0.0.0.0:53333\" --ns comparison_test --db surrealml_vs_onnx_vs_pytorch model.surml"
   ]
  },
  {
   "cell_type": "markdown",
   "metadata": {},
   "source": [
    "According to the log above, the .surml file should be in SurrealDB. By using the [surreal sql](https://surrealdb.com/docs/surrealdb/cli/sql#sql-command), I can see that the model was correctly uploaded to SurrealDB:"
   ]
  },
  {
   "attachments": {
    "image.png": {
     "image/png": "[encoded data removed]"
    }
   },
   "cell_type": "markdown",
   "metadata": {},
   "source": [
    "![image.png](attachment:image.png)"
   ]
  },
  {
   "cell_type": "markdown",
   "metadata": {},
   "source": [
    "According to the documentation, the instance of the SurMlFile has an equivalent `.upload()` method that may be used to load the model in SurrealDB, check it [here](https://surrealdb.com/docs/surrealml#model-deployment)."
   ]
  },
  {
   "cell_type": "markdown",
   "metadata": {},
   "source": [
    "<h2 id=\"7\"></h2>\n",
    "\n",
    "## Exporting the model to ONNX"
   ]
  },
  {
   "cell_type": "markdown",
   "metadata": {},
   "source": [
    "We will subsequently export the model to ONNX, see the file `model.onnx` from the directory of the notebook. "
   ]
  },
  {
   "cell_type": "code",
   "execution_count": 11,
   "metadata": {},
   "outputs": [],
   "source": [
    "torch.onnx.export(\n",
    "    model,\n",
    "    example_input,\n",
    "    \"model.onnx\",\n",
    "    input_names=[\"input\"],\n",
    "    output_names=[\"output\"],\n",
    "    dynamic_axes={\"input\": {0: \"batch_size\"}, \"output\": {0: \"batch_size\"}},\n",
    ")"
   ]
  },
  {
   "cell_type": "markdown",
   "metadata": {},
   "source": [
    "<h2 id=\"8\"></h2>\n",
    "\n",
    "## Generating and inserting fake data into SurrealDB"
   ]
  },
  {
   "cell_type": "markdown",
   "metadata": {},
   "source": [
    "We connect to SurrealDB and insert randomly generated test data in batches defined by max_number_inputs = $2^{16}$ inputs, split into batches of inputs batch_size = $2^{10}$."
   ]
  },
  {
   "cell_type": "markdown",
   "metadata": {},
   "source": [
    "**Back-of-the-envelope calculations**: Knowing that a datapoint is effectively a random float value, for a single precision machine, we have:\n",
    "\n",
    "$$\n",
    "4 \\, \\text{bytes per float (assunming single precision)} \\times 10 \\, \\text{floats (the size of a single input for our model)} \\times 2^{16} \\approx 2.5 \\, \\text{MB}\n",
    "$$\n"
   ]
  },
  {
   "cell_type": "markdown",
   "metadata": {},
   "source": [
    "In case your machine supports less than this, or, on the contrary, you want to do more extensive benchmarking, adjust the values below accordingly."
   ]
  },
  {
   "cell_type": "code",
   "execution_count": 12,
   "metadata": {},
   "outputs": [],
   "source": [
    "max_number_inputs = 2**16  # adjust based on disk size\n",
    "batch_size = 2**10  # adjust this according to RAM size\n",
    "number_batches = max_number_inputs // batch_size\n",
    "\n",
    "URL = \"http://localhost:53333\"\n",
    "NS = \"comparison_test\"\n",
    "DB = \"surrealml_vs_onnx_vs_pytorch\"\n",
    "\n",
    "surreal = Surreal(\n",
    "    url=URL,\n",
    "    namespace=NS,\n",
    "    database=DB,\n",
    "    timeout=10**8,\n",
    ")"
   ]
  },
  {
   "cell_type": "markdown",
   "metadata": {},
   "source": [
    "Let us create the fake inputs of size 10 datapoints, coming in batches of $2^{10}$ inputs..."
   ]
  },
  {
   "cell_type": "code",
   "execution_count": 13,
   "metadata": {
    "scrolled": true
   },
   "outputs": [],
   "source": [
    "%%skip\n",
    "with surreal.connect() as connect:\n",
    "    for _ in range(number_batches):\n",
    "        test_inputs = torch.rand(batch_size, 10).tolist()\n",
    "        for test_input in test_inputs:\n",
    "            # Construct the query to insert each element into separate feature columns\n",
    "            query = f\"\"\"\n",
    "            CREATE inputs:ulid()\n",
    "            SET feature_1 = {test_input[0]},\n",
    "                feature_2 = {test_input[1]},\n",
    "                feature_3 = {test_input[2]},\n",
    "                feature_4 = {test_input[3]},\n",
    "                feature_5 = {test_input[4]},\n",
    "                feature_6 = {test_input[5]},\n",
    "                feature_7 = {test_input[6]},\n",
    "                feature_8 = {test_input[7]},\n",
    "                feature_9 = {test_input[8]},\n",
    "                feature_10 = {test_input[9]},\n",
    "                creation_time = time::now();\n",
    "            \"\"\"\n",
    "            result = connect.query(query)\n",
    "\n",
    "            if result.status == \"OK\":\n",
    "                continue\n",
    "            else:\n",
    "                print(f\"Failed to insert: {test_input}, Result: {result.result}\")"
   ]
  },
  {
   "cell_type": "markdown",
   "metadata": {},
   "source": [
    "<h2 id=\"9\"></h2>\n",
    "\n",
    "## Benchmarking SurrealML versus PyTorch versus ONNX"
   ]
  },
  {
   "cell_type": "markdown",
   "metadata": {},
   "source": [
    "Let us first print our system properties:"
   ]
  },
  {
   "cell_type": "code",
   "execution_count": 15,
   "metadata": {},
   "outputs": [
    {
     "name": "stdout",
     "output_type": "stream",
     "text": [
      "Number of physical CPU cores: 10\n",
      "Number of logical CPU cores: 20\n",
      "Total Memory (RAM): 15.47 GB\n",
      "Operating System: Linux 5.15.153.1-microsoft-standard-WSL2\n",
      "Python Version: 3.11.10\n",
      "Processor: x86_64\n"
     ]
    }
   ],
   "source": [
    "print(f\"Number of physical CPU cores: {psutil.cpu_count(logical=False)}\")\n",
    "print(f\"Number of logical CPU cores: {psutil.cpu_count(logical=True)}\")\n",
    "print(f\"Total Memory (RAM): {psutil.virtual_memory().total / (1024 ** 3):.2f} GB\")\n",
    "print(f\"Operating System: {platform.system()} {platform.release()}\")\n",
    "print(f\"Python Version: {platform.python_version()}\")\n",
    "print(f\"Processor: {platform.processor()}\")"
   ]
  },
  {
   "cell_type": "markdown",
   "metadata": {},
   "source": [
    "We are now going to define some functions which represent an `atomic prediction` in the 3 mentioned approaches of ML inference."
   ]
  },
  {
   "cell_type": "markdown",
   "metadata": {},
   "source": [
    "We start with the one for `SurrealML`..."
   ]
  },
  {
   "cell_type": "code",
   "execution_count": 12,
   "metadata": {},
   "outputs": [],
   "source": [
    "@chronometer\n",
    "def predict_with_surrealml(test_size, connect):\n",
    "    query = f\"\"\"\n",
    "    SELECT creation_time, ml::ToyNet<0.0.1>(\n",
    "        {{\n",
    "            feature_1: feature_1, \n",
    "            feature_2: feature_2, \n",
    "            feature_3: feature_3, \n",
    "            feature_4: feature_4, \n",
    "            feature_5: feature_5, \n",
    "            feature_6: feature_6, \n",
    "            feature_7: feature_7, \n",
    "            feature_8: feature_8, \n",
    "            feature_9: feature_9, \n",
    "            feature_10: feature_10\n",
    "        }}\n",
    "    )\n",
    "    FROM inputs\n",
    "    ORDER BY creation_time ASC\n",
    "    LIMIT {test_size}\n",
    "    \"\"\"\n",
    "    stringified_ml_query = \"ml::ToyNet<0.0.1>({ feature_1: feature_1, feature_10: feature_10, feature_2: feature_2, feature_3: feature_3, feature_4: feature_4, feature_5: feature_5, feature_6: feature_6, feature_7: feature_7, feature_8: feature_8, feature_9: feature_9 })\"\n",
    "    result = connect.query(query)\n",
    "    assert result.status == \"OK\"\n",
    "\n",
    "    predictions = [\n",
    "        prediction_with_features[stringified_ml_query]\n",
    "        for prediction_with_features in result.result\n",
    "    ]\n",
    "\n",
    "    return predictions"
   ]
  },
  {
   "cell_type": "markdown",
   "metadata": {},
   "source": [
    "Observe the `@chronometer` decorator, which will time the execution of the lines of code defined in its function."
   ]
  },
  {
   "cell_type": "markdown",
   "metadata": {},
   "source": [
    "In the same spirit, for PyTorch we have:"
   ]
  },
  {
   "cell_type": "code",
   "execution_count": 13,
   "metadata": {},
   "outputs": [],
   "source": [
    "@chronometer\n",
    "def predict_with_pytorch(test_size, connect):\n",
    "    query = f\"\"\"\n",
    "    SELECT \n",
    "        feature_1, feature_2, feature_3, feature_4, feature_5, \n",
    "        feature_6, feature_7, feature_8, feature_9, feature_10,\n",
    "        creation_time\n",
    "    FROM inputs\n",
    "    ORDER BY creation_time ASC\n",
    "    LIMIT {test_size}\n",
    "    \"\"\"\n",
    "    result = connect.query(query)\n",
    "    assert result.status == \"OK\"\n",
    "\n",
    "    feature_order = [f\"feature_{i}\" for i in range(1, 11)]\n",
    "    inputs_batch = [[d[feature] for feature in feature_order] for d in result.result]\n",
    "\n",
    "    return model.forward(torch.tensor(inputs_batch)).flatten().tolist()"
   ]
  },
  {
   "cell_type": "markdown",
   "metadata": {},
   "source": [
    "... and, respectively, to obtain predictions using the ONNX runtime directly, we define"
   ]
  },
  {
   "cell_type": "code",
   "execution_count": 14,
   "metadata": {},
   "outputs": [],
   "source": [
    "@chronometer\n",
    "def predict_with_onnx(test_size, connect):\n",
    "    query = f\"\"\"\n",
    "    SELECT \n",
    "        feature_1, feature_2, feature_3, feature_4, feature_5, \n",
    "        feature_6, feature_7, feature_8, feature_9, feature_10,\n",
    "        creation_time\n",
    "    FROM inputs\n",
    "    ORDER BY creation_time ASC\n",
    "    LIMIT {test_size}\n",
    "    \"\"\"\n",
    "    result = connect.query(query)\n",
    "    assert result.status == \"OK\"\n",
    "\n",
    "    feature_order = [f\"feature_{i}\" for i in range(1, 11)]\n",
    "    inputs_batch = np.array(\n",
    "        [[d[feature] for feature in feature_order] for d in result.result]\n",
    "    ).astype(np.float32)\n",
    "\n",
    "    session = InferenceSession(f\"./model.onnx\")\n",
    "    output = session.run([\"output\"], {\"input\": inputs_batch})\n",
    "\n",
    "    return output[0].flatten().tolist()"
   ]
  },
  {
   "cell_type": "markdown",
   "metadata": {},
   "source": [
    "Subsequently, let´s time the predictions in the 3 cases:"
   ]
  },
  {
   "cell_type": "code",
   "execution_count": 15,
   "metadata": {},
   "outputs": [
    {
     "name": "stdout",
     "output_type": "stream",
     "text": [
      "RUN 0 || NO inputs: 8\n",
      "####################################################################################################\n",
      "\n",
      "\n",
      "SurrealML: execution time took 268.3145275115967s\n",
      "####################################################################################################\n",
      "\n",
      "\n",
      "ONNX: execution time took 1.053638219833374s\n",
      "####################################################################################################\n",
      "\n",
      "\n",
      "PyTorch: execution time took 1.072693109512329s\n",
      "####################################################################################################\n",
      "\n",
      "\n",
      "Predictions from SurrealML and PyTorch do agree!\n",
      "Predictions from PyTorch and ONNX do agree!\n"
     ]
    }
   ],
   "source": [
    "os.environ[\"ONNXRUNTIME_LIB_PATH\"] = \"/usr/local/lib\"\n",
    "os.environ[\"LD_LIBRARY_PATH\"] = \"/usr/local/lib:$LD_LIBRARY_PATH\"\n",
    "\n",
    "surreal_times = {}\n",
    "pytorch_times = {}\n",
    "onnx_times = {}\n",
    "test_step = 2**3\n",
    "number_steps = number_batches // test_step\n",
    "\n",
    "try:\n",
    "    with surreal.connect() as connect:\n",
    "        for increment in range(number_steps):\n",
    "            test_size = (increment + 1) * test_step\n",
    "            print(f\"RUN {increment} || NO inputs: \" + str(test_size))\n",
    "            print(\"#\" * 100)\n",
    "            print(\"\\n\")\n",
    "\n",
    "            elapsed_time_surrealml, predictions_surrealml = predict_with_surrealml(\n",
    "                test_size, connect\n",
    "            )\n",
    "\n",
    "            surreal_times[test_size] = elapsed_time_surrealml\n",
    "            print(f\"SurrealML: execution time took {elapsed_time_surrealml}s\")\n",
    "            print(\"#\" * 100)\n",
    "            print(\"\\n\")\n",
    "\n",
    "            elapsed_time_onnx, predictions_onnx = predict_with_onnx(test_size, connect)\n",
    "            onnx_times[test_size] = elapsed_time_onnx\n",
    "            print(f\"ONNX: execution time took {elapsed_time_onnx}s\")\n",
    "            print(\"#\" * 100)\n",
    "            print(\"\\n\")\n",
    "\n",
    "            elapsed_time_pytorch, predictions_pytorch = predict_with_pytorch(\n",
    "                test_size, connect\n",
    "            )\n",
    "            pytorch_times[test_size] = elapsed_time_pytorch\n",
    "            print(f\"PyTorch: execution time took {elapsed_time_pytorch}s\")\n",
    "            print(\"#\" * 100)\n",
    "            print(\"\\n\")\n",
    "\n",
    "            if not torch.all(\n",
    "                torch.isclose(\n",
    "                    torch.tensor(predictions_surrealml),\n",
    "                    torch.tensor(predictions_pytorch),\n",
    "                )\n",
    "            ):\n",
    "                print(\"WARNING: Predictions from SurrealML and PyTorch differ!\")\n",
    "            else:\n",
    "                print(\"Predictions from SurrealML and PyTorch do agree!\")\n",
    "\n",
    "            if not torch.all(\n",
    "                torch.isclose(\n",
    "                    torch.tensor(predictions_pytorch), torch.tensor(predictions_onnx),\n",
    "                )\n",
    "            ):\n",
    "                print(\"WARNING: Predictions from PyTorch and ONNX differ!\")\n",
    "            else:\n",
    "                print(\"Predictions from PyTorch and ONNX do agree!\")\n",
    "\n",
    "            # we break here after one iteration because of the performance bottleneck, see below:\n",
    "            break\n",
    "except Exception as e:\n",
    "    print(e)"
   ]
  },
  {
   "cell_type": "markdown",
   "metadata": {},
   "source": [
    "We decided to stop the tests after a single run, to inspect the results. Observe that executing with `SurrealML` took an unexpected amount of time, as compared to `ONNX` and `PyTorch`, which took a similar amount of time. This might be a possible `performance bottleneck`."
   ]
  },
  {
   "cell_type": "markdown",
   "metadata": {},
   "source": [
    "After experimenting for a while with other queries with SurrealML, I realized that the trouble comes when one uses the `ORDER BY` statement. Hence, let us skip it, but still check that the predictions for the 3 cases agree."
   ]
  },
  {
   "cell_type": "markdown",
   "metadata": {},
   "source": [
    "We redefine our benchmark functions:"
   ]
  },
  {
   "cell_type": "code",
   "execution_count": 16,
   "metadata": {},
   "outputs": [],
   "source": [
    "@chronometer\n",
    "def predict_with_surrealml(test_size, connect):\n",
    "    query = f\"\"\"\n",
    "    SELECT ml::ToyNet<0.0.1>(\n",
    "        {{\n",
    "            feature_1: feature_1, \n",
    "            feature_2: feature_2, \n",
    "            feature_3: feature_3, \n",
    "            feature_4: feature_4, \n",
    "            feature_5: feature_5, \n",
    "            feature_6: feature_6, \n",
    "            feature_7: feature_7, \n",
    "            feature_8: feature_8, \n",
    "            feature_9: feature_9, \n",
    "            feature_10: feature_10\n",
    "        }}\n",
    "    )\n",
    "    FROM inputs\n",
    "    LIMIT {test_size}\n",
    "    \"\"\"\n",
    "    \n",
    "    result = connect.query(query)\n",
    "    assert result.status == \"OK\"\n",
    "\n",
    "    predictions = result.result\n",
    "    values = [list(prediction.values())[0] for prediction in predictions]\n",
    "\n",
    "    return values"
   ]
  },
  {
   "cell_type": "code",
   "execution_count": 17,
   "metadata": {},
   "outputs": [],
   "source": [
    "@chronometer\n",
    "def predict_with_pytorch(test_size, connect):\n",
    "    query = f\"\"\"\n",
    "    SELECT \n",
    "        feature_1, feature_2, feature_3, feature_4, feature_5, \n",
    "        feature_6, feature_7, feature_8, feature_9, feature_10,\n",
    "        creation_time\n",
    "    FROM inputs\n",
    "    LIMIT {test_size}\n",
    "    \"\"\"\n",
    "    result = connect.query(query)\n",
    "    assert result.status == \"OK\"\n",
    "\n",
    "    feature_order = [f\"feature_{i}\" for i in range(1, 11)]\n",
    "    inputs_batch = [[d[feature] for feature in feature_order] for d in result.result]\n",
    "\n",
    "    return model.forward(torch.tensor(inputs_batch)).flatten().tolist()"
   ]
  },
  {
   "cell_type": "code",
   "execution_count": 18,
   "metadata": {},
   "outputs": [],
   "source": [
    "@chronometer\n",
    "def predict_with_onnx(test_size, connect):\n",
    "    query = f\"\"\"\n",
    "    SELECT \n",
    "        feature_1, feature_2, feature_3, feature_4, feature_5, \n",
    "        feature_6, feature_7, feature_8, feature_9, feature_10,\n",
    "        creation_time\n",
    "    FROM inputs\n",
    "    LIMIT {test_size}\n",
    "    \"\"\"\n",
    "    result = connect.query(query)\n",
    "    assert result.status == \"OK\"\n",
    "\n",
    "    feature_order = [f\"feature_{i}\" for i in range(1, 11)]\n",
    "    inputs_batch = np.array(\n",
    "        [[d[feature] for feature in feature_order] for d in result.result]\n",
    "    ).astype(np.float32)\n",
    "\n",
    "    session = InferenceSession(f\"./model.onnx\")\n",
    "    output = session.run([\"output\"], {\"input\": inputs_batch})\n",
    "\n",
    "    return output[0].flatten().tolist()"
   ]
  },
  {
   "cell_type": "markdown",
   "metadata": {},
   "source": [
    "... and we redo the timing:"
   ]
  },
  {
   "cell_type": "code",
   "execution_count": 19,
   "metadata": {},
   "outputs": [
    {
     "name": "stdout",
     "output_type": "stream",
     "text": [
      "RUN 0 || NO inputs: 8\n",
      "####################################################################################################\n",
      "\n",
      "\n",
      "SurrealML: execution time took 0.027677297592163086s\n",
      "####################################################################################################\n",
      "\n",
      "\n",
      "ONNX: execution time took 0.007478475570678711s\n",
      "####################################################################################################\n",
      "\n",
      "\n",
      "PyTorch: execution time took 0.008169174194335938s\n",
      "####################################################################################################\n",
      "\n",
      "\n",
      "Predictions from SurrealML and PyTorch do agree!\n",
      "Predictions from PyTorch and ONNX do agree!\n",
      "RUN 1 || NO inputs: 16\n",
      "####################################################################################################\n",
      "\n",
      "\n",
      "SurrealML: execution time took 0.07466697692871094s\n",
      "####################################################################################################\n",
      "\n",
      "\n",
      "ONNX: execution time took 0.007027387619018555s\n",
      "####################################################################################################\n",
      "\n",
      "\n",
      "PyTorch: execution time took 0.0045740604400634766s\n",
      "####################################################################################################\n",
      "\n",
      "\n",
      "Predictions from SurrealML and PyTorch do agree!\n",
      "Predictions from PyTorch and ONNX do agree!\n",
      "RUN 2 || NO inputs: 24\n",
      "####################################################################################################\n",
      "\n",
      "\n",
      "SurrealML: execution time took 0.1362004280090332s\n",
      "####################################################################################################\n",
      "\n",
      "\n",
      "ONNX: execution time took 0.008641719818115234s\n",
      "####################################################################################################\n",
      "\n",
      "\n",
      "PyTorch: execution time took 0.006127834320068359s\n",
      "####################################################################################################\n",
      "\n",
      "\n",
      "Predictions from SurrealML and PyTorch do agree!\n",
      "Predictions from PyTorch and ONNX do agree!\n",
      "RUN 3 || NO inputs: 32\n",
      "####################################################################################################\n",
      "\n",
      "\n",
      "SurrealML: execution time took 0.24536752700805664s\n",
      "####################################################################################################\n",
      "\n",
      "\n",
      "ONNX: execution time took 0.008317947387695312s\n",
      "####################################################################################################\n",
      "\n",
      "\n",
      "PyTorch: execution time took 0.006013393402099609s\n",
      "####################################################################################################\n",
      "\n",
      "\n",
      "Predictions from SurrealML and PyTorch do agree!\n",
      "Predictions from PyTorch and ONNX do agree!\n",
      "RUN 4 || NO inputs: 40\n",
      "####################################################################################################\n",
      "\n",
      "\n",
      "SurrealML: execution time took 0.2829771041870117s\n",
      "####################################################################################################\n",
      "\n",
      "\n",
      "ONNX: execution time took 0.007456541061401367s\n",
      "####################################################################################################\n",
      "\n",
      "\n",
      "PyTorch: execution time took 0.005022287368774414s\n",
      "####################################################################################################\n",
      "\n",
      "\n",
      "Predictions from SurrealML and PyTorch do agree!\n",
      "Predictions from PyTorch and ONNX do agree!\n",
      "RUN 5 || NO inputs: 48\n",
      "####################################################################################################\n",
      "\n",
      "\n",
      "SurrealML: execution time took 0.3024928569793701s\n",
      "####################################################################################################\n",
      "\n",
      "\n",
      "ONNX: execution time took 0.007909059524536133s\n",
      "####################################################################################################\n",
      "\n",
      "\n",
      "PyTorch: execution time took 0.009108304977416992s\n",
      "####################################################################################################\n",
      "\n",
      "\n",
      "Predictions from SurrealML and PyTorch do agree!\n",
      "Predictions from PyTorch and ONNX do agree!\n",
      "RUN 6 || NO inputs: 56\n",
      "####################################################################################################\n",
      "\n",
      "\n",
      "SurrealML: execution time took 0.3181579113006592s\n",
      "####################################################################################################\n",
      "\n",
      "\n",
      "ONNX: execution time took 0.009671926498413086s\n",
      "####################################################################################################\n",
      "\n",
      "\n",
      "PyTorch: execution time took 0.01058053970336914s\n",
      "####################################################################################################\n",
      "\n",
      "\n",
      "Predictions from SurrealML and PyTorch do agree!\n",
      "Predictions from PyTorch and ONNX do agree!\n",
      "RUN 7 || NO inputs: 64\n",
      "####################################################################################################\n",
      "\n",
      "\n",
      "SurrealML: execution time took 0.4476957321166992s\n",
      "####################################################################################################\n",
      "\n",
      "\n",
      "ONNX: execution time took 0.00911569595336914s\n",
      "####################################################################################################\n",
      "\n",
      "\n",
      "PyTorch: execution time took 0.0072536468505859375s\n",
      "####################################################################################################\n",
      "\n",
      "\n",
      "Predictions from SurrealML and PyTorch do agree!\n",
      "Predictions from PyTorch and ONNX do agree!\n"
     ]
    }
   ],
   "source": [
    "os.environ[\"ONNXRUNTIME_LIB_PATH\"] = \"/usr/local/lib\"\n",
    "os.environ[\"LD_LIBRARY_PATH\"] = \"/usr/local/lib:$LD_LIBRARY_PATH\"\n",
    "\n",
    "surreal_times = {}\n",
    "pytorch_times = {}\n",
    "onnx_times = {}\n",
    "test_step = 2**3\n",
    "number_steps = number_batches // test_step\n",
    "\n",
    "try:\n",
    "    with surreal.connect() as connect:\n",
    "        for increment in range(number_steps):\n",
    "            test_size = (increment + 1) * test_step\n",
    "            print(f\"RUN {increment} || NO inputs: \" + str(test_size))\n",
    "            print(\"#\" * 100)\n",
    "            print(\"\\n\")\n",
    "\n",
    "            elapsed_time_surrealml, predictions_surrealml = predict_with_surrealml(\n",
    "                test_size, connect\n",
    "            )\n",
    "\n",
    "            surreal_times[test_size] = elapsed_time_surrealml\n",
    "            print(f\"SurrealML: execution time took {elapsed_time_surrealml}s\")\n",
    "            print(\"#\" * 100)\n",
    "            print(\"\\n\")\n",
    "\n",
    "            elapsed_time_onnx, predictions_onnx = predict_with_onnx(test_size, connect)\n",
    "            onnx_times[test_size] = elapsed_time_onnx\n",
    "            print(f\"ONNX: execution time took {elapsed_time_onnx}s\")\n",
    "            print(\"#\" * 100)\n",
    "            print(\"\\n\")\n",
    "\n",
    "            elapsed_time_pytorch, predictions_pytorch = predict_with_pytorch(\n",
    "                test_size, connect\n",
    "            )\n",
    "            pytorch_times[test_size] = elapsed_time_pytorch\n",
    "            print(f\"PyTorch: execution time took {elapsed_time_pytorch}s\")\n",
    "            print(\"#\" * 100)\n",
    "            print(\"\\n\")\n",
    "\n",
    "            if not torch.all(\n",
    "                torch.isclose(\n",
    "                    torch.tensor(predictions_surrealml),\n",
    "                    torch.tensor(predictions_pytorch),\n",
    "                )\n",
    "            ):\n",
    "                print(\"WARNING: Predictions from SurrealML and PyTorch differ!\")\n",
    "            else:\n",
    "                print(\"Predictions from SurrealML and PyTorch do agree!\")\n",
    "\n",
    "            if not torch.all(\n",
    "                torch.isclose(\n",
    "                    torch.tensor(predictions_pytorch), torch.tensor(predictions_onnx),\n",
    "                )\n",
    "            ):\n",
    "                print(\"WARNING: Predictions from PyTorch and ONNX differ!\")\n",
    "            else:\n",
    "                print(\"Predictions from PyTorch and ONNX do agree!\")\n",
    "except Exception as e:\n",
    "    print(e)"
   ]
  },
  {
   "cell_type": "markdown",
   "metadata": {},
   "source": [
    "Let us visualize the results:"
   ]
  },
  {
   "cell_type": "code",
   "execution_count": 31,
   "metadata": {},
   "outputs": [
    {
     "data": {
      "image/png": "[encoded data removed]",
      "text/plain": [
       "<Figure size 1200x600 with 1 Axes>"
      ]
     },
     "metadata": {},
     "output_type": "display_data"
    }
   ],
   "source": [
    "plt.style.use(\"bmh\")\n",
    "plt.rcParams[\"axes.facecolor\"] = \"#EAEAF2\"\n",
    "os.makedirs(\"./plots\", exist_ok=True)\n",
    "\n",
    "plt.figure(figsize=(12, 6))\n",
    "\n",
    "plt.plot(\n",
    "    pytorch_times.keys(),\n",
    "    pytorch_times.values(),\n",
    "    marker=\"o\",\n",
    "    color=\"#FFA500\",\n",
    "    markersize=6,\n",
    "    linewidth=2,\n",
    "    label=\"PyTorch\",\n",
    ")\n",
    "sns.scatterplot(\n",
    "    x=pytorch_times.keys(),\n",
    "    y=pytorch_times.values(),\n",
    "    s=60,\n",
    "    color=\"black\",\n",
    "    alpha=0.7,\n",
    "    edgecolor=None,\n",
    "    zorder=2,\n",
    ")\n",
    "\n",
    "plt.plot(\n",
    "    surreal_times.keys(),\n",
    "    surreal_times.values(),\n",
    "    marker=\"o\",\n",
    "    color=\"#1E90FF\",\n",
    "    markersize=6,\n",
    "    linewidth=2,\n",
    "    label=\"SurrealML\",\n",
    ")\n",
    "sns.scatterplot(\n",
    "    x=surreal_times.keys(),\n",
    "    y=surreal_times.values(),\n",
    "    s=60,\n",
    "    color=\"red\",\n",
    "    alpha=0.7,\n",
    "    edgecolor=None,\n",
    "    zorder=2,\n",
    ")\n",
    "\n",
    "plt.plot(\n",
    "    onnx_times.keys(),\n",
    "    onnx_times.values(),\n",
    "    marker=\"o\",\n",
    "    color=\"#32CD32\",\n",
    "    markersize=6,\n",
    "    linewidth=2,\n",
    "    label=\"ONNX\",\n",
    ")\n",
    "sns.scatterplot(\n",
    "    x=onnx_times.keys(),\n",
    "    y=onnx_times.values(),\n",
    "    s=60,\n",
    "    color=\"yellow\",\n",
    "    alpha=0.7,\n",
    "    edgecolor=None,\n",
    "    zorder=2,\n",
    ")\n",
    "\n",
    "plt.xlabel(\"Test Size\", fontsize=12, weight=\"bold\")\n",
    "plt.ylabel(\"Execution Time (seconds)\", fontsize=12, weight=\"bold\")\n",
    "plt.title(\"SurrealML vs PyTorch vs ONNX\", fontsize=14, weight=\"bold\")\n",
    "plt.yscale(\"log\")\n",
    "plt.grid(True, linestyle='--', linewidth=0.5, alpha=0.7)\n",
    "plt.legend(title=\"Libraries\", loc=\"upper left\", fontsize=10, title_fontsize=11)\n",
    "\n",
    "plot_path = os.path.join(os.getcwd(), \"plots\", \"execution_time_vs_test_size.png\")\n",
    "plt.savefig(plot_path, dpi=300, bbox_inches='tight')\n",
    "plt.show()"
   ]
  },
  {
   "cell_type": "markdown",
   "metadata": {},
   "source": [
    "`!!!` One should take note that the ONNX runtime used for SurrealML is strictly not the same one as the one used in `onnxscript`, see `set_onnx_runtime.sh` for more details about versions."
   ]
  },
  {
   "cell_type": "markdown",
   "metadata": {},
   "source": [
    "To conclude, `SurrealML` may be used to convert a PyTorch/ONNX model to the `.surml` format, and then infer with it inside SurrealDB."
   ]
  }
 ],
 "metadata": {
  "kernelspec": {
   "display_name": ".venv",
   "language": "python",
   "name": "python3"
  },
  "language_info": {
   "codemirror_mode": {
    "name": "ipython",
    "version": 3
   },
   "file_extension": ".py",
   "mimetype": "text/x-python",
   "name": "python",
   "nbconvert_exporter": "python",
   "pygments_lexer": "ipython3",
   "version": "3.11.10"
  }
 },
 "nbformat": 4,
 "nbformat_minor": 4
}
